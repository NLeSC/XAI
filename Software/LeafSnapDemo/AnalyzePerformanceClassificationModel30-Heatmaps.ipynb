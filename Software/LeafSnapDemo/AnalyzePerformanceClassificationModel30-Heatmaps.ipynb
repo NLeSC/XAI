{
 "cells": [
  {
   "cell_type": "markdown",
   "metadata": {},
   "source": [
    "# Analyze the performance of the classification model for 30 tree species based on LeafSnap data subset - heatmaps"
   ]
  },
  {
   "cell_type": "markdown",
   "metadata": {},
   "source": [
    "### Settings"
   ]
  },
  {
   "cell_type": "code",
   "execution_count": 1,
   "metadata": {},
   "outputs": [],
   "source": [
    "#!pip install keras-vis"
   ]
  },
  {
   "cell_type": "code",
   "execution_count": 2,
   "metadata": {},
   "outputs": [],
   "source": [
    "import vis"
   ]
  },
  {
   "cell_type": "code",
   "execution_count": 3,
   "metadata": {},
   "outputs": [
    {
     "name": "stderr",
     "output_type": "stream",
     "text": [
      "Using TensorFlow backend.\n"
     ]
    }
   ],
   "source": [
    "# Imports\n",
    "import warnings\n",
    "warnings.simplefilter('ignore')\n",
    "\n",
    "from matplotlib import pyplot as plt\n",
    "from vis.utils import utils\n",
    "from vis.visualization import visualize_cam\n",
    "import seaborn as sns\n",
    "import cv2\n",
    "\n",
    "\n",
    "import os.path\n",
    "import pandas as pd\n",
    "import numpy as np\n",
    "\n",
    "from keras.models import load_model\n",
    "from keras import activations"
   ]
  },
  {
   "cell_type": "markdown",
   "metadata": {},
   "source": [
    "### Load the relevant data "
   ]
  },
  {
   "cell_type": "code",
   "execution_count": 4,
   "metadata": {},
   "outputs": [
    {
     "data": {
      "text/html": [
       "<div>\n",
       "<style scoped>\n",
       "    .dataframe tbody tr th:only-of-type {\n",
       "        vertical-align: middle;\n",
       "    }\n",
       "\n",
       "    .dataframe tbody tr th {\n",
       "        vertical-align: top;\n",
       "    }\n",
       "\n",
       "    .dataframe thead th {\n",
       "        text-align: right;\n",
       "    }\n",
       "</style>\n",
       "<table border=\"1\" class=\"dataframe\">\n",
       "  <thead>\n",
       "    <tr style=\"text-align: right;\">\n",
       "      <th></th>\n",
       "      <th>file_id</th>\n",
       "      <th>image_path</th>\n",
       "      <th>species</th>\n",
       "      <th>source</th>\n",
       "      <th>filename</th>\n",
       "      <th>labels_integer</th>\n",
       "    </tr>\n",
       "  </thead>\n",
       "  <tbody>\n",
       "    <tr>\n",
       "      <th>0</th>\n",
       "      <td>55821</td>\n",
       "      <td>dataset/images/lab/Auto_cropped/acer_campestre...</td>\n",
       "      <td>Acer campestre</td>\n",
       "      <td>lab</td>\n",
       "      <td>ny1079-01-1.jpg</td>\n",
       "      <td>0</td>\n",
       "    </tr>\n",
       "    <tr>\n",
       "      <th>1</th>\n",
       "      <td>55822</td>\n",
       "      <td>dataset/images/lab/Auto_cropped/acer_campestre...</td>\n",
       "      <td>Acer campestre</td>\n",
       "      <td>lab</td>\n",
       "      <td>ny1079-01-2.jpg</td>\n",
       "      <td>0</td>\n",
       "    </tr>\n",
       "    <tr>\n",
       "      <th>2</th>\n",
       "      <td>55823</td>\n",
       "      <td>dataset/images/lab/Auto_cropped/acer_campestre...</td>\n",
       "      <td>Acer campestre</td>\n",
       "      <td>lab</td>\n",
       "      <td>ny1079-01-3.jpg</td>\n",
       "      <td>0</td>\n",
       "    </tr>\n",
       "    <tr>\n",
       "      <th>3</th>\n",
       "      <td>55824</td>\n",
       "      <td>dataset/images/lab/Auto_cropped/acer_campestre...</td>\n",
       "      <td>Acer campestre</td>\n",
       "      <td>lab</td>\n",
       "      <td>ny1079-01-4.jpg</td>\n",
       "      <td>0</td>\n",
       "    </tr>\n",
       "    <tr>\n",
       "      <th>4</th>\n",
       "      <td>55825</td>\n",
       "      <td>dataset/images/lab/Auto_cropped/acer_campestre...</td>\n",
       "      <td>Acer campestre</td>\n",
       "      <td>lab</td>\n",
       "      <td>ny1079-02-1.jpg</td>\n",
       "      <td>0</td>\n",
       "    </tr>\n",
       "  </tbody>\n",
       "</table>\n",
       "</div>"
      ],
      "text/plain": [
       "   file_id                                         image_path         species  \\\n",
       "0    55821  dataset/images/lab/Auto_cropped/acer_campestre...  Acer campestre   \n",
       "1    55822  dataset/images/lab/Auto_cropped/acer_campestre...  Acer campestre   \n",
       "2    55823  dataset/images/lab/Auto_cropped/acer_campestre...  Acer campestre   \n",
       "3    55824  dataset/images/lab/Auto_cropped/acer_campestre...  Acer campestre   \n",
       "4    55825  dataset/images/lab/Auto_cropped/acer_campestre...  Acer campestre   \n",
       "\n",
       "  source         filename  labels_integer  \n",
       "0    lab  ny1079-01-1.jpg               0  \n",
       "1    lab  ny1079-01-2.jpg               0  \n",
       "2    lab  ny1079-01-3.jpg               0  \n",
       "3    lab  ny1079-01-4.jpg               0  \n",
       "4    lab  ny1079-02-1.jpg               0  "
      ]
     },
     "execution_count": 4,
     "metadata": {},
     "output_type": "execute_result"
    }
   ],
   "source": [
    "original_data_path = \"/home/elena/eStep/XAI/Data/LeafSnap/leafsnap-dataset-30subset/\"\n",
    "#dataset_info_file = os.path.join(original_data_path, \"leafsnap-dataset-30subset-images.txt\")\n",
    "dataset_info_file_enh = os.path.join(original_data_path, \"leafsnap-dataset-30subset-images-enhanced.txt\")\n",
    "\n",
    "img_info = pd.read_csv(dataset_info_file_enh)\n",
    "img_info.head()"
   ]
  },
  {
   "cell_type": "markdown",
   "metadata": {},
   "source": [
    "### Load the model"
   ]
  },
  {
   "cell_type": "code",
   "execution_count": 5,
   "metadata": {
    "scrolled": true
   },
   "outputs": [
    {
     "name": "stdout",
     "output_type": "stream",
     "text": [
      "Loading the best model...\n",
      "Best Model loaded!\n"
     ]
    }
   ],
   "source": [
    "best_model_file = model_fname = os.path.join(original_data_path, 'Models','leafnet.h5')\n",
    "\n",
    "print('Loading the best model...')\n",
    "model = load_model(best_model_file)\n",
    "print('Best Model loaded!')\n"
   ]
  },
  {
   "cell_type": "markdown",
   "metadata": {},
   "source": [
    "## Visualize interesting regions"
   ]
  },
  {
   "cell_type": "markdown",
   "metadata": {},
   "source": [
    "### Gradient weighted class activation maps\n",
    "\n",
    "We predict the class of one image with our network. From the output, we select the column corresponding to the class that the highest probability was assigned to. Next, we get the output from the final convolutional layer (the final convolutional feature map, eg (14,14,512)). We then compute the gradient of our selected class’s output with respect to the feature map (In how far does changing the values in the feature map change the output for our selected class?).\n",
    "\n",
    "From these gradients, we select the maximum gradient per channel of the feature map (so the maximum gradient for each filter (512,) --> like a global max pooling layer: collapse each filter (each channel) so each feature that is detected (by the corresponding filter) in one node ((1,1,512) or (512,)) and multiply the first two dimensions oft he feature map with it (so multiply each of the 14x14 values per each of the 512 channels with the one maximum gradient value for the corresponding channel). From this, we obtain the weighted feature map (14, 14, 512), where each of the 14x14 values inside each channel is weighted by the maximum gradient of this channel.\n",
    "\n",
    "We then average across the channel axis into a (14, 14) heatmap (so we have one average value for each of the first two dimensions of the weighted feature map across all channels). The higher a value in this heatmap, the more does the output for our selected class depend on it.\n",
    "\n",
    "Then, we set all negative entries in the heatmap to zero and normalize all values by dividing them by the maximum value inside the heatmap, so that now values range from 0 to 1. Next, we resize the heatmap to the size of the image we generated the heatmap for (the input image we predicted a class for). Then, we multiply each of the heatmap’s entries by 255, to obtain a grayscale image. This is then pseudocolored. Finally, the heatmap is imposed on the original image.\n",
    "\n",
    "From this, we can see, which parts of the image the model mainly used to come up with a classification, as\n",
    "we highlight the feature map regions that cause the most change in the output.\n"
   ]
  },
  {
   "cell_type": "code",
   "execution_count": 6,
   "metadata": {},
   "outputs": [],
   "source": [
    "def generate_heatmap(img_array, model, layer_output, layer_conv, img):\n",
    "    '''\n",
    "    Computes a gradient weighted class activation map for an image by weighing the final convolutional \n",
    "    feature map with the gradient of the predicted class with respect to the channel and then averaging \n",
    "    along the channel (filter) axis to visualize which image regions are important for classifying the\n",
    "    image.\n",
    "    \n",
    "    Input:\n",
    "    - img_array: normalized rgb array of an image with shape (w,h,c) as expected by the model (assuming\n",
    "      the amount of training examples is given on the first axis for the model input)\n",
    "    - model: model to base the class activation map on\n",
    "    - layer_ouput: name of the model's softmax output layer (str)\n",
    "    - layer_conv: name of the final convolutional layer (this feature map is used) (str)\n",
    "    - img: filename (with path) of the image corresponding to img_array, of any size\n",
    "    \n",
    "    Returns:\n",
    "    - img with the class activation map superimposed on it \n",
    "    '''\n",
    "    \n",
    "    #expand img_array to fit into model: (1,w,h,c)\n",
    "    x = np.expand_dims(img_array, axis=0)\n",
    "    #predict the corresponding class\n",
    "    pred_class = np.argmax(model.predict(x))\n",
    "    layer_output_name = layer_output\n",
    "    layer_conv_name = layer_conv\n",
    "    #get indices of the relevant layers    \n",
    "    output_layer_idx = [idx for idx, layer in enumerate(model.layers) if layer.name == layer_output_name][0]\n",
    "    conv_layer_idx = [idx for idx, layer in enumerate(model.layers) if layer.name == layer_conv_name][0]\n",
    "    #change softmax layer to linear activation layer to obtain better results\n",
    "    model.layers[output_layer_idx].activation = activations.linear\n",
    "    #apply changes (to new model instance, original model stays untouched)\n",
    "    model_maps = utils.apply_modifications(model)\n",
    "    #generate class activation map\n",
    "    heatmap = visualize_cam(model=model_maps, layer_idx=output_layer_idx, filter_indices=[pred_class], seed_input=x, penultimate_layer_idx=conv_layer_idx)\n",
    "    #read image the map is to be superimposed on\n",
    "    img = cv2.imread(img)\n",
    "    #resize map to the size of img\n",
    "    heatmap = cv2.resize(heatmap, (img.shape[1], img.shape[0]))\n",
    "    #superimpose\n",
    "    superimposed_img = cv2.addWeighted(img, 0.6, heatmap, 0.4, 0)\n",
    "    \n",
    "    return superimposed_img"
   ]
  },
  {
   "cell_type": "markdown",
   "metadata": {},
   "source": [
    "Data frame containing one lab picture per class."
   ]
  },
  {
   "cell_type": "code",
   "execution_count": 7,
   "metadata": {},
   "outputs": [],
   "source": [
    "img_info_lab = img_info[img_info[\"source\"] == \"lab\"]\n",
    "\n",
    "k = 0\n",
    "for index, row in img_info_lab.iterrows():\n",
    "    if k == 0:\n",
    "        if row[\"labels_integer\"] == k:\n",
    "            example_per_label_lab = row\n",
    "            example_per_label_lab = pd.DataFrame([example_per_label_lab])\n",
    "            k += 1\n",
    "    elif k == 30:\n",
    "        break\n",
    "    else:\n",
    "        if row[\"labels_integer\"] == k:\n",
    "            example_per_label_lab = example_per_label_lab.append(row)\n",
    "            k +=1"
   ]
  },
  {
   "cell_type": "markdown",
   "metadata": {},
   "source": [
    "Generate heatmap for each lab example (one per class)."
   ]
  },
  {
   "cell_type": "code",
   "execution_count": 8,
   "metadata": {},
   "outputs": [
    {
     "name": "stdout",
     "output_type": "stream",
     "text": [
      "/home/elena/eStep/XAI/Data/LeafSnap/leafsnap-dataset-30subset/heatmaps/lab/Acer campestre_heatmap_ny1079-01-1.jpg\n",
      "/home/elena/eStep/XAI/Data/LeafSnap/leafsnap-dataset-30subset/heatmaps/lab/Acer platanoides_heatmap_wb1565-01-1.jpg\n",
      "/home/elena/eStep/XAI/Data/LeafSnap/leafsnap-dataset-30subset/heatmaps/lab/Aesculus hippocastamon_heatmap_ny1016-01-1.jpg\n",
      "/home/elena/eStep/XAI/Data/LeafSnap/leafsnap-dataset-30subset/heatmaps/lab/Betula lenta_heatmap_wb1193-01-1.jpg\n",
      "/home/elena/eStep/XAI/Data/LeafSnap/leafsnap-dataset-30subset/heatmaps/lab/Betula nigra_heatmap_wb1037-01-1.jpg\n",
      "/home/elena/eStep/XAI/Data/LeafSnap/leafsnap-dataset-30subset/heatmaps/lab/Celtis occidentalis_heatmap_pi0060-01-1.jpg\n",
      "/home/elena/eStep/XAI/Data/LeafSnap/leafsnap-dataset-30subset/heatmaps/lab/Diospyros virginiana_heatmap_pi0196-01-1.jpg\n",
      "/home/elena/eStep/XAI/Data/LeafSnap/leafsnap-dataset-30subset/heatmaps/lab/Magnolia acuminata_heatmap_wb1220-01-1.jpg\n",
      "/home/elena/eStep/XAI/Data/LeafSnap/leafsnap-dataset-30subset/heatmaps/lab/Magnolia grandiflora_heatmap_wb1457-01-1.jpg\n",
      "/home/elena/eStep/XAI/Data/LeafSnap/leafsnap-dataset-30subset/heatmaps/lab/Platanus acerifolia_heatmap_ny1131-01-1.jpg\n",
      "/home/elena/eStep/XAI/Data/LeafSnap/leafsnap-dataset-30subset/heatmaps/lab/Platanus occidentalis_heatmap_pi0018-01-1.jpg\n",
      "/home/elena/eStep/XAI/Data/LeafSnap/leafsnap-dataset-30subset/heatmaps/lab/Quercus alba_heatmap_pi0079-01-1.jpg\n",
      "/home/elena/eStep/XAI/Data/LeafSnap/leafsnap-dataset-30subset/heatmaps/lab/Quercus bicolor_heatmap_wb1562-01-1.jpg\n",
      "/home/elena/eStep/XAI/Data/LeafSnap/leafsnap-dataset-30subset/heatmaps/lab/Quercus rubra_heatmap_pi0174-01-1.jpg\n",
      "/home/elena/eStep/XAI/Data/LeafSnap/leafsnap-dataset-30subset/heatmaps/lab/Salix nigra_heatmap_wb1184-01-1.jpg\n",
      "/home/elena/eStep/XAI/Data/LeafSnap/leafsnap-dataset-30subset/heatmaps/lab/Tilia americana_heatmap_pi0057-01-1.jpg\n",
      "/home/elena/eStep/XAI/Data/LeafSnap/leafsnap-dataset-30subset/heatmaps/lab/Tilia europaea_heatmap_ny1153-01-1.jpg\n",
      "/home/elena/eStep/XAI/Data/LeafSnap/leafsnap-dataset-30subset/heatmaps/lab/Ulmus americana_heatmap_pi0020-01-1.jpg\n",
      "/home/elena/eStep/XAI/Data/LeafSnap/leafsnap-dataset-30subset/heatmaps/lab/Ulmus rubra_heatmap_pi1077-01-1.jpg\n",
      "/home/elena/eStep/XAI/Data/LeafSnap/leafsnap-dataset-30subset/heatmaps/lab/Zelkova serrata_heatmap_ny1007-01-1.jpg\n",
      "/home/elena/eStep/XAI/Data/LeafSnap/leafsnap-dataset-30subset/heatmaps/lab/Maclura pomifera_heatmap_pi2235-01-1.jpg\n",
      "/home/elena/eStep/XAI/Data/LeafSnap/leafsnap-dataset-30subset/heatmaps/lab/Ilex opaca_heatmap_pi0056-01-1.jpg\n",
      "/home/elena/eStep/XAI/Data/LeafSnap/leafsnap-dataset-30subset/heatmaps/lab/Acer rubrum_heatmap_pi2388-01-1.jpg\n",
      "/home/elena/eStep/XAI/Data/LeafSnap/leafsnap-dataset-30subset/heatmaps/lab/Broussonettia papyrifera_heatmap_ny1122-01-1.jpg\n",
      "/home/elena/eStep/XAI/Data/LeafSnap/leafsnap-dataset-30subset/heatmaps/lab/Prunus sargentii_heatmap_ny1094-01-1.jpg\n",
      "/home/elena/eStep/XAI/Data/LeafSnap/leafsnap-dataset-30subset/heatmaps/lab/Ptelea trifoliata_heatmap_pi0003-01-1.jpg\n",
      "/home/elena/eStep/XAI/Data/LeafSnap/leafsnap-dataset-30subset/heatmaps/lab/Ulmus pumila_heatmap_ny1048-01-1.jpg\n",
      "/home/elena/eStep/XAI/Data/LeafSnap/leafsnap-dataset-30subset/heatmaps/lab/Abies concolor_heatmap_ny1157-01-1.jpg\n",
      "/home/elena/eStep/XAI/Data/LeafSnap/leafsnap-dataset-30subset/heatmaps/lab/Asimina triloba_heatmap_pi2177-01-1.jpg\n",
      "/home/elena/eStep/XAI/Data/LeafSnap/leafsnap-dataset-30subset/heatmaps/lab/Quercus montana_heatmap_pi0036-01-1.jpg\n"
     ]
    }
   ],
   "source": [
    "output_path = os.path.join(original_data_path, \"heatmaps/lab/\")\n",
    "col_index_path = example_per_label_lab.columns.get_loc(\"image_path\")\n",
    "col_index_filename = example_per_label_lab.columns.get_loc(\"filename\")\n",
    "col_index_label = example_per_label_lab.columns.get_loc(\"species\")\n",
    "\n",
    "for i in range(len(example_per_label_lab)):\n",
    "  path = os.path.join(original_data_path, example_per_label_lab.iloc[i, col_index_path])\n",
    "  #print(path)\n",
    "  img = cv2.imread(path)\n",
    "  #print(np.shape(img))\n",
    "  img = cv2.resize(img, (64, 64))\n",
    "  img = img/255\n",
    "  heatmap = generate_heatmap(img, model, \"dense_layer2\", \"maxpooling2d_layer2\", path)\n",
    "  filename = os.path.join(output_path, example_per_label_lab.iloc[i, col_index_label] + \"_heatmap_\" +  example_per_label_lab.iloc[i, col_index_filename])\n",
    "  print(filename)    \n",
    "  cv2.imwrite(filename, heatmap)"
   ]
  },
  {
   "cell_type": "markdown",
   "metadata": {},
   "source": [
    "Data frame containing one field picture per class."
   ]
  },
  {
   "cell_type": "code",
   "execution_count": 9,
   "metadata": {},
   "outputs": [],
   "source": [
    "#print(output_path)"
   ]
  },
  {
   "cell_type": "code",
   "execution_count": 10,
   "metadata": {},
   "outputs": [],
   "source": [
    "img_info_field = img_info[img_info[\"source\"] == \"field\"]\n",
    "\n",
    "k = 0\n",
    "for index, row in img_info_field.iterrows():\n",
    "    if k == 0:\n",
    "        if row[\"labels_integer\"] == k:\n",
    "            example_per_label_field = row\n",
    "            example_per_label_field = pd.DataFrame([example_per_label_field])\n",
    "            k += 1\n",
    "    elif k == 30:\n",
    "        break\n",
    "    else:\n",
    "        if row[\"labels_integer\"] == k:\n",
    "            example_per_label_field = example_per_label_field.append(row)\n",
    "            k +=1"
   ]
  },
  {
   "cell_type": "code",
   "execution_count": null,
   "metadata": {},
   "outputs": [
    {
     "name": "stdout",
     "output_type": "stream",
     "text": [
      "/home/elena/eStep/XAI/Data/LeafSnap/leafsnap-dataset-30subset/heatmaps/field/Acer campestre_heatmap_13291732971024.jpg\n",
      "/home/elena/eStep/XAI/Data/LeafSnap/leafsnap-dataset-30subset/heatmaps/field/Acer platanoides_heatmap_1249060544_0000.jpg\n",
      "/home/elena/eStep/XAI/Data/LeafSnap/leafsnap-dataset-30subset/heatmaps/field/Aesculus hippocastamon_heatmap_1248106230_0000.jpg\n",
      "/home/elena/eStep/XAI/Data/LeafSnap/leafsnap-dataset-30subset/heatmaps/field/Betula lenta_heatmap_1248106459_0000.jpg\n",
      "/home/elena/eStep/XAI/Data/LeafSnap/leafsnap-dataset-30subset/heatmaps/field/Betula nigra_heatmap_1258487222_0000.jpg\n",
      "/home/elena/eStep/XAI/Data/LeafSnap/leafsnap-dataset-30subset/heatmaps/field/Celtis occidentalis_heatmap_1248106179_0000.jpg\n",
      "/home/elena/eStep/XAI/Data/LeafSnap/leafsnap-dataset-30subset/heatmaps/field/Diospyros virginiana_heatmap_12991999785260.jpg\n",
      "/home/elena/eStep/XAI/Data/LeafSnap/leafsnap-dataset-30subset/heatmaps/field/Magnolia acuminata_heatmap_13001959993766.jpg\n",
      "/home/elena/eStep/XAI/Data/LeafSnap/leafsnap-dataset-30subset/heatmaps/field/Magnolia grandiflora_heatmap_1249580214_0000.jpg\n",
      "/home/elena/eStep/XAI/Data/LeafSnap/leafsnap-dataset-30subset/heatmaps/field/Platanus acerifolia_heatmap_1249060588_0000.jpg\n",
      "/home/elena/eStep/XAI/Data/LeafSnap/leafsnap-dataset-30subset/heatmaps/field/Platanus occidentalis_heatmap_1248105841_0000.jpg\n",
      "/home/elena/eStep/XAI/Data/LeafSnap/leafsnap-dataset-30subset/heatmaps/field/Quercus alba_heatmap_1249580462_0000.jpg\n",
      "/home/elena/eStep/XAI/Data/LeafSnap/leafsnap-dataset-30subset/heatmaps/field/Quercus bicolor_heatmap_1249060941_0000.jpg\n",
      "/home/elena/eStep/XAI/Data/LeafSnap/leafsnap-dataset-30subset/heatmaps/field/Quercus rubra_heatmap_1248106564_0000.jpg\n",
      "/home/elena/eStep/XAI/Data/LeafSnap/leafsnap-dataset-30subset/heatmaps/field/Salix nigra_heatmap_13002204341230.jpg\n",
      "/home/elena/eStep/XAI/Data/LeafSnap/leafsnap-dataset-30subset/heatmaps/field/Tilia americana_heatmap_1249579823_0000.jpg\n",
      "/home/elena/eStep/XAI/Data/LeafSnap/leafsnap-dataset-30subset/heatmaps/field/Tilia europaea_heatmap_1249579981_0000.jpg\n",
      "/home/elena/eStep/XAI/Data/LeafSnap/leafsnap-dataset-30subset/heatmaps/field/Ulmus americana_heatmap_1249059004_0000.jpg\n",
      "/home/elena/eStep/XAI/Data/LeafSnap/leafsnap-dataset-30subset/heatmaps/field/Ulmus rubra_heatmap_13002228283746.jpg\n",
      "/home/elena/eStep/XAI/Data/LeafSnap/leafsnap-dataset-30subset/heatmaps/field/Zelkova serrata_heatmap_12992008276001.jpg\n",
      "/home/elena/eStep/XAI/Data/LeafSnap/leafsnap-dataset-30subset/heatmaps/field/Maclura pomifera_heatmap_1248106412_0000.jpg\n",
      "/home/elena/eStep/XAI/Data/LeafSnap/leafsnap-dataset-30subset/heatmaps/field/Ilex opaca_heatmap_1248105728_0000.jpg\n",
      "/home/elena/eStep/XAI/Data/LeafSnap/leafsnap-dataset-30subset/heatmaps/field/Acer rubrum_heatmap_13001155907155.jpg\n",
      "/home/elena/eStep/XAI/Data/LeafSnap/leafsnap-dataset-30subset/heatmaps/field/Broussonettia papyrifera_heatmap_13001252079268.jpg\n",
      "/home/elena/eStep/XAI/Data/LeafSnap/leafsnap-dataset-30subset/heatmaps/field/Prunus sargentii_heatmap_13292214153733.jpg\n"
     ]
    }
   ],
   "source": [
    "output_path = os.path.join(original_data_path,\"heatmaps/field/\")\n",
    "col_index_path = example_per_label_field.columns.get_loc(\"image_path\")\n",
    "col_index_filename = example_per_label_field.columns.get_loc(\"filename\")\n",
    "col_index_label = example_per_label_field.columns.get_loc(\"species\")\n",
    "\n",
    "for i in range(len(example_per_label_field)):\n",
    "  path = os.path.join(original_data_path,example_per_label_field.iloc[i, col_index_path])\n",
    "  img = cv2.imread(path)\n",
    "  img = cv2.resize(img, (64, 64))\n",
    "  img = img/255\n",
    "  heatmap = generate_heatmap(img, model, \"dense_layer2\", \"maxpooling2d_layer2\", path)\n",
    "  filename = os.path.join(output_path, example_per_label_field.iloc[i, col_index_label] + \"_heatmap_\" +  example_per_label_field.iloc[i, col_index_filename])\n",
    "  print(filename)        \n",
    "  cv2.imwrite(filename, heatmap)"
   ]
  },
  {
   "cell_type": "code",
   "execution_count": null,
   "metadata": {},
   "outputs": [],
   "source": []
  }
 ],
 "metadata": {
  "kernelspec": {
   "display_name": "Python 3",
   "language": "python",
   "name": "python3"
  },
  "language_info": {
   "codemirror_mode": {
    "name": "ipython",
    "version": 3
   },
   "file_extension": ".py",
   "mimetype": "text/x-python",
   "name": "python",
   "nbconvert_exporter": "python",
   "pygments_lexer": "ipython3",
   "version": "3.6.7"
  }
 },
 "nbformat": 4,
 "nbformat_minor": 2
}
