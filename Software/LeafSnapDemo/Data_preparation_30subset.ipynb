{
 "cells": [
  {
   "cell_type": "markdown",
   "metadata": {},
   "source": [
    "# LeafSnap data 30-subset preparation"
   ]
  },
  {
   "cell_type": "markdown",
   "metadata": {},
   "source": [
    "The original dataset has been downloaded from [kaggle.com](https://www.kaggle.com/xhlulu/leafsnap-dataset) as [leafsnap.com](leafsnap.com/dataset) is not available any more. It is stored at [SURF drive](https://surfdrive.surf.nl/files/index.php/s/MoCVal7gxS4aX51?path=%2Fdata%2FLeafSnap). There are 30 866 (~31k) color images of different sizes. The dataset covers all 185 tree species from the Northeastern United States. The original images of leaves taken from two different sources:\n",
    "\n",
    "    \"Lab\" images, consisting of high-quality images taken of pressed leaves, from the Smithsonian collection.\n",
    "    \"Field\" images, consisting of \"typical\" images taken by mobile devices (iPhones mostly) in outdoor environments.\n",
    "\n",
    "For the purpose of this demo a subset of 30 species of lab and field images has been selected. The lab images have been cropped semi-manually using IrfanView to remove the riles and color calibration image parts. This results in a  dataset of 6136 images.\n",
    "\n",
    "This notebook (based on a [student project notebook]) is used to load the cropped images resize to images to 64x64, normalize the data and save the files as numpy compressed (NPZ). "
   ]
  },
  {
   "cell_type": "markdown",
   "metadata": {},
   "source": [
    "### Imports"
   ]
  },
  {
   "cell_type": "code",
   "execution_count": 1,
   "metadata": {},
   "outputs": [
    {
     "name": "stderr",
     "output_type": "stream",
     "text": [
      "Using TensorFlow backend.\n"
     ]
    }
   ],
   "source": [
    "import warnings\n",
    "warnings.simplefilter('ignore')\n",
    "import os\n",
    "import PIL\n",
    "import imageio\n",
    "import pandas as pd\n",
    "import numpy as np\n",
    "import random\n",
    "import math\n",
    "import keras"
   ]
  },
  {
   "cell_type": "markdown",
   "metadata": {},
   "source": [
    "\n",
    "### Read data frame with information about pictures\n",
    "\n",
    "In the dataset, there is a data frame containing information about the pictures. Relevant for us are the columns:\n",
    "\n",
    "    path: path to the individual pictures\n",
    "    species: latin term for each plant\n",
    "    source: picture taken in lab or field\n",
    "\n"
   ]
  },
  {
   "cell_type": "code",
   "execution_count": 10,
   "metadata": {},
   "outputs": [
    {
     "data": {
      "text/html": [
       "<div>\n",
       "<style scoped>\n",
       "    .dataframe tbody tr th:only-of-type {\n",
       "        vertical-align: middle;\n",
       "    }\n",
       "\n",
       "    .dataframe tbody tr th {\n",
       "        vertical-align: top;\n",
       "    }\n",
       "\n",
       "    .dataframe thead th {\n",
       "        text-align: right;\n",
       "    }\n",
       "</style>\n",
       "<table border=\"1\" class=\"dataframe\">\n",
       "  <thead>\n",
       "    <tr style=\"text-align: right;\">\n",
       "      <th></th>\n",
       "      <th>file_id</th>\n",
       "      <th>image_path</th>\n",
       "      <th>species</th>\n",
       "      <th>source</th>\n",
       "    </tr>\n",
       "  </thead>\n",
       "  <tbody>\n",
       "    <tr>\n",
       "      <th>0</th>\n",
       "      <td>55821</td>\n",
       "      <td>dataset/images/lab/Auto_cropped/acer_campestre...</td>\n",
       "      <td>Acer campestre</td>\n",
       "      <td>lab</td>\n",
       "    </tr>\n",
       "    <tr>\n",
       "      <th>1</th>\n",
       "      <td>55822</td>\n",
       "      <td>dataset/images/lab/Auto_cropped/acer_campestre...</td>\n",
       "      <td>Acer campestre</td>\n",
       "      <td>lab</td>\n",
       "    </tr>\n",
       "    <tr>\n",
       "      <th>2</th>\n",
       "      <td>55823</td>\n",
       "      <td>dataset/images/lab/Auto_cropped/acer_campestre...</td>\n",
       "      <td>Acer campestre</td>\n",
       "      <td>lab</td>\n",
       "    </tr>\n",
       "    <tr>\n",
       "      <th>3</th>\n",
       "      <td>55824</td>\n",
       "      <td>dataset/images/lab/Auto_cropped/acer_campestre...</td>\n",
       "      <td>Acer campestre</td>\n",
       "      <td>lab</td>\n",
       "    </tr>\n",
       "    <tr>\n",
       "      <th>4</th>\n",
       "      <td>55825</td>\n",
       "      <td>dataset/images/lab/Auto_cropped/acer_campestre...</td>\n",
       "      <td>Acer campestre</td>\n",
       "      <td>lab</td>\n",
       "    </tr>\n",
       "  </tbody>\n",
       "</table>\n",
       "</div>"
      ],
      "text/plain": [
       "   file_id                                         image_path         species  \\\n",
       "0    55821  dataset/images/lab/Auto_cropped/acer_campestre...  Acer campestre   \n",
       "1    55822  dataset/images/lab/Auto_cropped/acer_campestre...  Acer campestre   \n",
       "2    55823  dataset/images/lab/Auto_cropped/acer_campestre...  Acer campestre   \n",
       "3    55824  dataset/images/lab/Auto_cropped/acer_campestre...  Acer campestre   \n",
       "4    55825  dataset/images/lab/Auto_cropped/acer_campestre...  Acer campestre   \n",
       "\n",
       "  source  \n",
       "0    lab  \n",
       "1    lab  \n",
       "2    lab  \n",
       "3    lab  \n",
       "4    lab  "
      ]
     },
     "execution_count": 10,
     "metadata": {},
     "output_type": "execute_result"
    }
   ],
   "source": [
    "# data paths\n",
    "original_data_path = \"/home/elena/eStep/XAI/Data/LeafSnap/leafsnap-dataset-30subset/\"\n",
    "#images_folder = os.join(original_data_patn, \"dataset\")\n",
    "dataset_info_file = os.path.join(original_data_path, \"leafsnap-dataset-30subset-images.txt\")\n",
    "\n",
    "img_info = pd.read_csv(dataset_info_file, sep=\"\\t\")\n",
    "img_info.head()"
   ]
  },
  {
   "cell_type": "markdown",
   "metadata": {},
   "source": [
    "Add new column for the filename only."
   ]
  },
  {
   "cell_type": "code",
   "execution_count": 11,
   "metadata": {},
   "outputs": [
    {
     "data": {
      "text/html": [
       "<div>\n",
       "<style scoped>\n",
       "    .dataframe tbody tr th:only-of-type {\n",
       "        vertical-align: middle;\n",
       "    }\n",
       "\n",
       "    .dataframe tbody tr th {\n",
       "        vertical-align: top;\n",
       "    }\n",
       "\n",
       "    .dataframe thead th {\n",
       "        text-align: right;\n",
       "    }\n",
       "</style>\n",
       "<table border=\"1\" class=\"dataframe\">\n",
       "  <thead>\n",
       "    <tr style=\"text-align: right;\">\n",
       "      <th></th>\n",
       "      <th>file_id</th>\n",
       "      <th>image_path</th>\n",
       "      <th>species</th>\n",
       "      <th>source</th>\n",
       "      <th>filename</th>\n",
       "    </tr>\n",
       "  </thead>\n",
       "  <tbody>\n",
       "    <tr>\n",
       "      <th>0</th>\n",
       "      <td>55821</td>\n",
       "      <td>dataset/images/lab/Auto_cropped/acer_campestre...</td>\n",
       "      <td>Acer campestre</td>\n",
       "      <td>lab</td>\n",
       "      <td>ny1079-01-1.jpg</td>\n",
       "    </tr>\n",
       "    <tr>\n",
       "      <th>1</th>\n",
       "      <td>55822</td>\n",
       "      <td>dataset/images/lab/Auto_cropped/acer_campestre...</td>\n",
       "      <td>Acer campestre</td>\n",
       "      <td>lab</td>\n",
       "      <td>ny1079-01-2.jpg</td>\n",
       "    </tr>\n",
       "    <tr>\n",
       "      <th>2</th>\n",
       "      <td>55823</td>\n",
       "      <td>dataset/images/lab/Auto_cropped/acer_campestre...</td>\n",
       "      <td>Acer campestre</td>\n",
       "      <td>lab</td>\n",
       "      <td>ny1079-01-3.jpg</td>\n",
       "    </tr>\n",
       "    <tr>\n",
       "      <th>3</th>\n",
       "      <td>55824</td>\n",
       "      <td>dataset/images/lab/Auto_cropped/acer_campestre...</td>\n",
       "      <td>Acer campestre</td>\n",
       "      <td>lab</td>\n",
       "      <td>ny1079-01-4.jpg</td>\n",
       "    </tr>\n",
       "    <tr>\n",
       "      <th>4</th>\n",
       "      <td>55825</td>\n",
       "      <td>dataset/images/lab/Auto_cropped/acer_campestre...</td>\n",
       "      <td>Acer campestre</td>\n",
       "      <td>lab</td>\n",
       "      <td>ny1079-02-1.jpg</td>\n",
       "    </tr>\n",
       "  </tbody>\n",
       "</table>\n",
       "</div>"
      ],
      "text/plain": [
       "   file_id                                         image_path         species  \\\n",
       "0    55821  dataset/images/lab/Auto_cropped/acer_campestre...  Acer campestre   \n",
       "1    55822  dataset/images/lab/Auto_cropped/acer_campestre...  Acer campestre   \n",
       "2    55823  dataset/images/lab/Auto_cropped/acer_campestre...  Acer campestre   \n",
       "3    55824  dataset/images/lab/Auto_cropped/acer_campestre...  Acer campestre   \n",
       "4    55825  dataset/images/lab/Auto_cropped/acer_campestre...  Acer campestre   \n",
       "\n",
       "  source         filename  \n",
       "0    lab  ny1079-01-1.jpg  \n",
       "1    lab  ny1079-01-2.jpg  \n",
       "2    lab  ny1079-01-3.jpg  \n",
       "3    lab  ny1079-01-4.jpg  \n",
       "4    lab  ny1079-02-1.jpg  "
      ]
     },
     "execution_count": 11,
     "metadata": {},
     "output_type": "execute_result"
    }
   ],
   "source": [
    "#new column (empty)\n",
    "img_info[\"filename\"] = None\n",
    "#index of new column\n",
    "index_filename = img_info.columns.get_loc(\"filename\")\n",
    "for i in range(len(img_info)):\n",
    "    img_info.iloc[i, index_filename] = os.path.basename(str(img_info[\"image_path\"][i]))\n",
    "img_info.head()    "
   ]
  },
  {
   "cell_type": "markdown",
   "metadata": {},
   "source": [
    "### Create numeric labels\n",
    "\n",
    "Then, we want to have numeric labels instead of the latin term for each plant, so we append another column holding these.\n",
    "\n",
    "    In the data frame, all images of one species are listed consecutively (first the lab images, then the field images).\n",
    "    Therefore we just loop over the dataframe and increment the numeric label whenever we encounter a latin term that differs from the previous one.\n",
    "\n"
   ]
  },
  {
   "cell_type": "code",
   "execution_count": 12,
   "metadata": {},
   "outputs": [
    {
     "data": {
      "text/html": [
       "<div>\n",
       "<style scoped>\n",
       "    .dataframe tbody tr th:only-of-type {\n",
       "        vertical-align: middle;\n",
       "    }\n",
       "\n",
       "    .dataframe tbody tr th {\n",
       "        vertical-align: top;\n",
       "    }\n",
       "\n",
       "    .dataframe thead th {\n",
       "        text-align: right;\n",
       "    }\n",
       "</style>\n",
       "<table border=\"1\" class=\"dataframe\">\n",
       "  <thead>\n",
       "    <tr style=\"text-align: right;\">\n",
       "      <th></th>\n",
       "      <th>file_id</th>\n",
       "      <th>image_path</th>\n",
       "      <th>species</th>\n",
       "      <th>source</th>\n",
       "      <th>filename</th>\n",
       "      <th>labels_integer</th>\n",
       "    </tr>\n",
       "  </thead>\n",
       "  <tbody>\n",
       "    <tr>\n",
       "      <th>6131</th>\n",
       "      <td>1736031</td>\n",
       "      <td>dataset/images/field/quercus_montana/132922311...</td>\n",
       "      <td>Quercus montana</td>\n",
       "      <td>field</td>\n",
       "      <td>13292231173082.jpg</td>\n",
       "      <td>29</td>\n",
       "    </tr>\n",
       "    <tr>\n",
       "      <th>6132</th>\n",
       "      <td>1736033</td>\n",
       "      <td>dataset/images/field/quercus_montana/132922311...</td>\n",
       "      <td>Quercus montana</td>\n",
       "      <td>field</td>\n",
       "      <td>13292231179955.jpg</td>\n",
       "      <td>29</td>\n",
       "    </tr>\n",
       "    <tr>\n",
       "      <th>6133</th>\n",
       "      <td>1736034</td>\n",
       "      <td>dataset/images/field/quercus_montana/132922311...</td>\n",
       "      <td>Quercus montana</td>\n",
       "      <td>field</td>\n",
       "      <td>13292231170979.jpg</td>\n",
       "      <td>29</td>\n",
       "    </tr>\n",
       "    <tr>\n",
       "      <th>6134</th>\n",
       "      <td>1736035</td>\n",
       "      <td>dataset/images/field/quercus_montana/132922311...</td>\n",
       "      <td>Quercus montana</td>\n",
       "      <td>field</td>\n",
       "      <td>13292231172496.jpg</td>\n",
       "      <td>29</td>\n",
       "    </tr>\n",
       "    <tr>\n",
       "      <th>6135</th>\n",
       "      <td>1736036</td>\n",
       "      <td>dataset/images/field/quercus_montana/132922311...</td>\n",
       "      <td>Quercus montana</td>\n",
       "      <td>field</td>\n",
       "      <td>13292231170554.jpg</td>\n",
       "      <td>29</td>\n",
       "    </tr>\n",
       "  </tbody>\n",
       "</table>\n",
       "</div>"
      ],
      "text/plain": [
       "      file_id                                         image_path  \\\n",
       "6131  1736031  dataset/images/field/quercus_montana/132922311...   \n",
       "6132  1736033  dataset/images/field/quercus_montana/132922311...   \n",
       "6133  1736034  dataset/images/field/quercus_montana/132922311...   \n",
       "6134  1736035  dataset/images/field/quercus_montana/132922311...   \n",
       "6135  1736036  dataset/images/field/quercus_montana/132922311...   \n",
       "\n",
       "              species source            filename  labels_integer  \n",
       "6131  Quercus montana  field  13292231173082.jpg              29  \n",
       "6132  Quercus montana  field  13292231179955.jpg              29  \n",
       "6133  Quercus montana  field  13292231170979.jpg              29  \n",
       "6134  Quercus montana  field  13292231172496.jpg              29  \n",
       "6135  Quercus montana  field  13292231170554.jpg              29  "
      ]
     },
     "execution_count": 12,
     "metadata": {},
     "output_type": "execute_result"
    }
   ],
   "source": [
    "#new column (empty)\n",
    "img_info[\"labels_integer\"] = None\n",
    "#index of new column\n",
    "index_labels_integer = img_info.columns.get_loc(\"labels_integer\")\n",
    "#index of species column\n",
    "index_species = img_info.columns.get_loc(\"species\")\n",
    "#to assign numeric labels starting with 0 for the first species\n",
    "k = 0 \n",
    "for i in range(len(img_info)):\n",
    "    if i == 0:\n",
    "        img_info.iloc[i, index_labels_integer] = k #here, k == 0\n",
    "    if i > 0:\n",
    "        if img_info.iloc[i-1, index_species] == img_info.iloc[i, index_species]:\n",
    "            img_info.iloc[i, index_labels_integer] = k\n",
    "        else:\n",
    "            k += 1\n",
    "            img_info.iloc[i, index_labels_integer] = k\n",
    "img_info.tail()\n"
   ]
  },
  {
   "cell_type": "markdown",
   "metadata": {},
   "source": [
    "Save dataframe."
   ]
  },
  {
   "cell_type": "code",
   "execution_count": 13,
   "metadata": {},
   "outputs": [],
   "source": [
    "dataset_info_file_enh = os.path.join(original_data_path, \"leafsnap-dataset-30subset-images-enhanced.txt\")\n",
    "img_info.to_csv(dataset_info_file_enh, index=False)"
   ]
  },
  {
   "cell_type": "markdown",
   "metadata": {},
   "source": [
    "### Resize pictures\n",
    "\n",
    "Resizing the pictures to 64x64 is done by reading the filenames from the data frame, generating a resizedversion of the desired size for each picture and saving them to an output directory.\n"
   ]
  },
  {
   "cell_type": "code",
   "execution_count": 14,
   "metadata": {},
   "outputs": [],
   "source": [
    "def resizeImage(infile, infile_name_only, output_dir=\"\", size=(64,64)):\n",
    "    '''\n",
    "    Resize Images to a requested size (not considerinng aspect ratio)\n",
    "    Input:\n",
    "      - infile: image to be resized (with path)\n",
    "      - infile_name_only: image to be resized (filename only)\n",
    "      - output_dir: where resized images should be stored\n",
    "      - size: output size (tuple of (height, width))\n",
    "    '''\n",
    "    infullfname = os.path.join(original_data_path, infile)\n",
    "    outfullfname = os.path.join(output_dir, infile_name_only)\n",
    "    #print(outfullfname)\n",
    "      #if infile != outfullfname:\n",
    "    if not os.path.isfile(outfullfname):\n",
    "        try:\n",
    "            im = PIL.Image.open(infullfname)\n",
    "            #crops to requested size independant from aspect ratio\n",
    "            im = im.resize(size, PIL.Image.ANTIALIAS) \n",
    "            im.save(outfullfname)\n",
    "        except IOError:\n",
    "            print(\"cannot reduce image for \", infullfname)\n",
    "\n",
    "output_dir = os.path.join(original_data_path,\"dataset\",\"resized\")\n",
    "size = (64, 64)\n",
    "filenames_dir = list(img_info[\"image_path\"])\n",
    "filenames = list(img_info[\"filename\"])\n",
    "            \n",
    "for i in range(len(filenames)):\n",
    "    resizeImage(filenames_dir[i], filenames[i], output_dir=output_dir, size=size)"
   ]
  },
  {
   "cell_type": "markdown",
   "metadata": {},
   "source": [
    "### Read pictures as RGB arrays\n",
    "\n",
    "RGB arrays: All resized images are read as rgb arrays in the order they are listed in the data frame. An RGB array is a numeric representation of a picture, assigning three color values (one for each of the three channels: red, green and blue) to each pixel. From a 64x64 picture, we therefore get a 64x64x3 rgb array.\n"
   ]
  },
  {
   "cell_type": "code",
   "execution_count": 15,
   "metadata": {},
   "outputs": [
    {
     "data": {
      "text/html": [
       "<div>\n",
       "<style scoped>\n",
       "    .dataframe tbody tr th:only-of-type {\n",
       "        vertical-align: middle;\n",
       "    }\n",
       "\n",
       "    .dataframe tbody tr th {\n",
       "        vertical-align: top;\n",
       "    }\n",
       "\n",
       "    .dataframe thead th {\n",
       "        text-align: right;\n",
       "    }\n",
       "</style>\n",
       "<table border=\"1\" class=\"dataframe\">\n",
       "  <thead>\n",
       "    <tr style=\"text-align: right;\">\n",
       "      <th></th>\n",
       "      <th>file_id</th>\n",
       "      <th>image_path</th>\n",
       "      <th>species</th>\n",
       "      <th>source</th>\n",
       "      <th>filename</th>\n",
       "      <th>labels_integer</th>\n",
       "    </tr>\n",
       "  </thead>\n",
       "  <tbody>\n",
       "    <tr>\n",
       "      <th>6131</th>\n",
       "      <td>1736031</td>\n",
       "      <td>dataset/images/field/quercus_montana/132922311...</td>\n",
       "      <td>Quercus montana</td>\n",
       "      <td>field</td>\n",
       "      <td>13292231173082.jpg</td>\n",
       "      <td>29</td>\n",
       "    </tr>\n",
       "    <tr>\n",
       "      <th>6132</th>\n",
       "      <td>1736033</td>\n",
       "      <td>dataset/images/field/quercus_montana/132922311...</td>\n",
       "      <td>Quercus montana</td>\n",
       "      <td>field</td>\n",
       "      <td>13292231179955.jpg</td>\n",
       "      <td>29</td>\n",
       "    </tr>\n",
       "    <tr>\n",
       "      <th>6133</th>\n",
       "      <td>1736034</td>\n",
       "      <td>dataset/images/field/quercus_montana/132922311...</td>\n",
       "      <td>Quercus montana</td>\n",
       "      <td>field</td>\n",
       "      <td>13292231170979.jpg</td>\n",
       "      <td>29</td>\n",
       "    </tr>\n",
       "    <tr>\n",
       "      <th>6134</th>\n",
       "      <td>1736035</td>\n",
       "      <td>dataset/images/field/quercus_montana/132922311...</td>\n",
       "      <td>Quercus montana</td>\n",
       "      <td>field</td>\n",
       "      <td>13292231172496.jpg</td>\n",
       "      <td>29</td>\n",
       "    </tr>\n",
       "    <tr>\n",
       "      <th>6135</th>\n",
       "      <td>1736036</td>\n",
       "      <td>dataset/images/field/quercus_montana/132922311...</td>\n",
       "      <td>Quercus montana</td>\n",
       "      <td>field</td>\n",
       "      <td>13292231170554.jpg</td>\n",
       "      <td>29</td>\n",
       "    </tr>\n",
       "  </tbody>\n",
       "</table>\n",
       "</div>"
      ],
      "text/plain": [
       "      file_id                                         image_path  \\\n",
       "6131  1736031  dataset/images/field/quercus_montana/132922311...   \n",
       "6132  1736033  dataset/images/field/quercus_montana/132922311...   \n",
       "6133  1736034  dataset/images/field/quercus_montana/132922311...   \n",
       "6134  1736035  dataset/images/field/quercus_montana/132922311...   \n",
       "6135  1736036  dataset/images/field/quercus_montana/132922311...   \n",
       "\n",
       "              species source            filename  labels_integer  \n",
       "6131  Quercus montana  field  13292231173082.jpg              29  \n",
       "6132  Quercus montana  field  13292231179955.jpg              29  \n",
       "6133  Quercus montana  field  13292231170979.jpg              29  \n",
       "6134  Quercus montana  field  13292231172496.jpg              29  \n",
       "6135  Quercus montana  field  13292231170554.jpg              29  "
      ]
     },
     "execution_count": 15,
     "metadata": {},
     "output_type": "execute_result"
    }
   ],
   "source": [
    "# Load the saved info file\n",
    "original_data_path = \"/home/elena/eStep/XAI/Data/LeafSnap/leafsnap-dataset-30subset/\"\n",
    "dataset_info_file_enh = os.path.join(original_data_path, \"leafsnap-dataset-30subset-images-enhanced.txt\")\n",
    "img_info = pd.read_csv(dataset_info_file_enh)\n",
    "img_info.tail()"
   ]
  },
  {
   "cell_type": "code",
   "execution_count": 16,
   "metadata": {},
   "outputs": [],
   "source": [
    "resized_dir = os.path.join(original_data_path,\"dataset\",\"resized\")\n",
    "index_filename = img_info.columns.get_loc(\"filename\")\n",
    "list_vectors = []\n",
    "\n",
    "for i in range(len(img_info)):\n",
    "    #path to resized images\n",
    "    file = os.path.join(resized_dir, img_info.iloc[i, index_filename])\n",
    "    #read as rgb array\n",
    "    img = imageio.imread(file)\n",
    "    #append image vector to list\n",
    "    list_vectors.append(img)\n"
   ]
  },
  {
   "cell_type": "markdown",
   "metadata": {},
   "source": [
    "### Randomize picture order\n",
    "\n",
    "As a next step, we want to randomize the order in which the picture data is fed to the CNN to prevent sequence effects, as the data frame comes ordered by species (We don't shuffle the dataframe with df.sample, as we don't want to add the really big list_vectors to the data frame).\n"
   ]
  },
  {
   "cell_type": "code",
   "execution_count": 17,
   "metadata": {},
   "outputs": [],
   "source": [
    "#relevant variables\n",
    "label = img_info[\"species\"]\n",
    "source = img_info[\"source\"]\n",
    "label_numeric = img_info[\"labels_integer\"]\n",
    "list_vectors = list_vectors\n",
    "filename = img_info[\"filename\"]\n",
    "path = img_info[\"image_path\"]\n",
    "\n",
    "#randomization\n",
    "allinfo = list(zip(label, source, label_numeric, list_vectors, filename, path)) \n",
    "random.shuffle(allinfo) #shuffle\n",
    "label, source, label_numeric, list_vectors, filename, path = zip(*allinfo) #decompose again\n",
    "img_info_rand = pd.DataFrame({\"filename\":filename, \"label\":label, \"source\":source, \"label_numeric\":label_numeric, \"path\":path}) #store picture information in randomized order"
   ]
  },
  {
   "cell_type": "markdown",
   "metadata": {},
   "source": [
    "### Stack picture input into one array\n",
    "\n",
    "Now, the picture vectors should be stacked vertically into one array, so that each row represents one picture. This array's shape should then be (30866, 64, 64, 3), as we have 30866 pictures, represented in a 64x64x3 array each.\n"
   ]
  },
  {
   "cell_type": "code",
   "execution_count": 18,
   "metadata": {},
   "outputs": [
    {
     "name": "stdout",
     "output_type": "stream",
     "text": [
      "(6136, 64, 64, 3)\n",
      "(6136,)\n"
     ]
    }
   ],
   "source": [
    "images = np.stack((list_vectors))\n",
    "\n",
    "#transform numeric labels into array\n",
    "labels = np.asarray(label_numeric)\n",
    "\n",
    "print(images.shape)\n",
    "print(labels.shape)"
   ]
  },
  {
   "cell_type": "markdown",
   "metadata": {},
   "source": [
    "### Normalize input features (pictures) and one-hot encode labels\n",
    "\n",
    "Finally, we normalize the picture data (dividing by 255, as there are 255 conditions possible for each rgb channel) and one-hot encode the numeric labels. One-hot encoding means to go from a representation where each numeric label is just one number (eg 14 for the 14th of 185 classes, so that we have a vector with 30866 entries for our 30866 pictures), to a representation where in a array each column represents a class and each row a picture. Here, picture number n being of class 14 is represented in the nth row, and only the 14th column contains a one, while all others hold zeros.\n"
   ]
  },
  {
   "cell_type": "code",
   "execution_count": 19,
   "metadata": {},
   "outputs": [
    {
     "name": "stdout",
     "output_type": "stream",
     "text": [
      "(6136, 30)\n"
     ]
    }
   ],
   "source": [
    "images = images/255\n",
    "labels_one_hot = keras.utils.to_categorical(labels,30)\n",
    "print(labels_one_hot.shape)"
   ]
  },
  {
   "cell_type": "markdown",
   "metadata": {},
   "source": [
    "###  Save input features, labels and further info\n",
    "\n",
    "We can save the input features, labels, and the further information about the pictures (in the randomized order) so that we don't have to repeat all the above steps in the next session.\n"
   ]
  },
  {
   "cell_type": "code",
   "execution_count": 20,
   "metadata": {},
   "outputs": [],
   "source": [
    "images_fname = os.path.join(original_data_path, \"images.npz\")\n",
    "labels_fname = os.path.join(original_data_path, \"labels.npz\")\n",
    "info_fname_rand = os.path.join(original_data_path, \"leafsnap-dataset-30subset-images-enhanced-randomized.txt\")\n",
    "np.savez(images_fname, images=images)\n",
    "np.savez(labels_fname, labels_one_hot=labels_one_hot)\n",
    "img_info_rand.to_csv(info_fname_rand, index=False)"
   ]
  },
  {
   "cell_type": "markdown",
   "metadata": {},
   "source": [
    "#### Visualize some of the data"
   ]
  },
  {
   "cell_type": "code",
   "execution_count": 21,
   "metadata": {},
   "outputs": [
    {
     "name": "stdout",
     "output_type": "stream",
     "text": [
      "Image size:  (6136, 64, 64, 3)\n",
      "Labels size:  (6136,)\n"
     ]
    },
    {
     "data": {
      "text/html": [
       "<div>\n",
       "<style scoped>\n",
       "    .dataframe tbody tr th:only-of-type {\n",
       "        vertical-align: middle;\n",
       "    }\n",
       "\n",
       "    .dataframe tbody tr th {\n",
       "        vertical-align: top;\n",
       "    }\n",
       "\n",
       "    .dataframe thead th {\n",
       "        text-align: right;\n",
       "    }\n",
       "</style>\n",
       "<table border=\"1\" class=\"dataframe\">\n",
       "  <thead>\n",
       "    <tr style=\"text-align: right;\">\n",
       "      <th></th>\n",
       "      <th>filename</th>\n",
       "      <th>label</th>\n",
       "      <th>source</th>\n",
       "      <th>label_numeric</th>\n",
       "      <th>path</th>\n",
       "    </tr>\n",
       "  </thead>\n",
       "  <tbody>\n",
       "    <tr>\n",
       "      <th>6131</th>\n",
       "      <td>pi0057-05-1.jpg</td>\n",
       "      <td>Tilia americana</td>\n",
       "      <td>lab</td>\n",
       "      <td>15</td>\n",
       "      <td>dataset/images/lab/Auto_cropped/tilia_american...</td>\n",
       "    </tr>\n",
       "    <tr>\n",
       "      <th>6132</th>\n",
       "      <td>wb1194-05-2.jpg</td>\n",
       "      <td>Betula lenta</td>\n",
       "      <td>lab</td>\n",
       "      <td>3</td>\n",
       "      <td>dataset/images/lab/Auto_cropped/betula_lenta/w...</td>\n",
       "    </tr>\n",
       "    <tr>\n",
       "      <th>6133</th>\n",
       "      <td>pi0005-05-3.jpg</td>\n",
       "      <td>Ptelea trifoliata</td>\n",
       "      <td>lab</td>\n",
       "      <td>25</td>\n",
       "      <td>dataset/images/lab/Auto_cropped/ptelea_trifoli...</td>\n",
       "    </tr>\n",
       "    <tr>\n",
       "      <th>6134</th>\n",
       "      <td>ny1124-02-2.jpg</td>\n",
       "      <td>Broussonettia papyrifera</td>\n",
       "      <td>lab</td>\n",
       "      <td>23</td>\n",
       "      <td>dataset/images/lab/Auto_cropped/broussonettia_...</td>\n",
       "    </tr>\n",
       "    <tr>\n",
       "      <th>6135</th>\n",
       "      <td>1249580214_0004.jpg</td>\n",
       "      <td>Magnolia grandiflora</td>\n",
       "      <td>field</td>\n",
       "      <td>8</td>\n",
       "      <td>dataset/images/field/magnolia_grandiflora/1249...</td>\n",
       "    </tr>\n",
       "  </tbody>\n",
       "</table>\n",
       "</div>"
      ],
      "text/plain": [
       "                 filename                     label source  label_numeric  \\\n",
       "6131      pi0057-05-1.jpg           Tilia americana    lab             15   \n",
       "6132      wb1194-05-2.jpg              Betula lenta    lab              3   \n",
       "6133      pi0005-05-3.jpg         Ptelea trifoliata    lab             25   \n",
       "6134      ny1124-02-2.jpg  Broussonettia papyrifera    lab             23   \n",
       "6135  1249580214_0004.jpg      Magnolia grandiflora  field              8   \n",
       "\n",
       "                                                   path  \n",
       "6131  dataset/images/lab/Auto_cropped/tilia_american...  \n",
       "6132  dataset/images/lab/Auto_cropped/betula_lenta/w...  \n",
       "6133  dataset/images/lab/Auto_cropped/ptelea_trifoli...  \n",
       "6134  dataset/images/lab/Auto_cropped/broussonettia_...  \n",
       "6135  dataset/images/field/magnolia_grandiflora/1249...  "
      ]
     },
     "execution_count": 21,
     "metadata": {},
     "output_type": "execute_result"
    }
   ],
   "source": [
    "# load data\n",
    "image_data = np.load(images_fname)\n",
    "info_data = pd.read_csv(info_fname_rand)\n",
    "\n",
    "images = image_data['images']\n",
    "labels = info_data[\"label\"]\n",
    "sources = info_data[\"source\"]\n",
    "\n",
    "print('Image size: ', np.shape(images))\n",
    "print('Labels size: ', np.shape(labels))\n",
    "\n",
    "info_data.tail()"
   ]
  },
  {
   "cell_type": "code",
   "execution_count": 23,
   "metadata": {},
   "outputs": [
    {
     "data": {
      "image/png": "[encoded data removed]",
      "text/plain": [
       "<Figure size 864x720 with 12 Axes>"
      ]
     },
     "metadata": {},
     "output_type": "display_data"
    }
   ],
   "source": [
    "from code import data as d\n",
    "\n",
    "d.plot_12images(images, labels, sources, figsize=(12,10))"
   ]
  },
  {
   "cell_type": "code",
   "execution_count": null,
   "metadata": {},
   "outputs": [],
   "source": []
  }
 ],
 "metadata": {
  "kernelspec": {
   "display_name": "Python 3",
   "language": "python",
   "name": "python3"
  },
  "language_info": {
   "codemirror_mode": {
    "name": "ipython",
    "version": 3
   },
   "file_extension": ".py",
   "mimetype": "text/x-python",
   "name": "python",
   "nbconvert_exporter": "python",
   "pygments_lexer": "ipython3",
   "version": "3.6.7"
  }
 },
 "nbformat": 4,
 "nbformat_minor": 2
}
