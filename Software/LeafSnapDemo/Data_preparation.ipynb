{
 "cells": [
  {
   "cell_type": "markdown",
   "metadata": {},
   "source": [
    "# SnapLeaf data subset preparation"
   ]
  },
  {
   "cell_type": "markdown",
   "metadata": {},
   "source": [
    "The original dataset has been downloaded from [kaggle.com](https://www.kaggle.com/xhlulu/leafsnap-dataset) as [leafsnap.com](leafsnap.com/dataset) is not available any more. It is stored at [SURF drive](https://surfdrive.surf.nl/files/index.php/s/MoCVal7gxS4aX51?path=%2Fdata%2FLeafSnap). There are 30 866 (~31k) color images of different sizes. The dataset covers all 185 tree species from the Northeastern United States. The original images of leaves taken from two different sources:\n",
    "\n",
    "    \"Lab\" images, consisting of high-quality images taken of pressed leaves, from the Smithsonian collection.\n",
    "    \"Field\" images, consisting of \"typical\" images taken by mobile devices (iPhones mostly) in outdoor environments.\n",
    "\n",
    "For the purpose of this demo a subset of 20 species of lab and field images has been selected. The lab images have been cropped semi-manually using IrfanView to remove the riles and color calibration image parts. This results in a small dataset of 3283 images.\n",
    "\n",
    "This notebook (based on a [student project notebook]) is used to load the cropped images resize to images to 64x64, normalize the data and save the files as numpy compressed (NPZ). "
   ]
  },
  {
   "cell_type": "markdown",
   "metadata": {},
   "source": [
    "### Imports"
   ]
  },
  {
   "cell_type": "code",
   "execution_count": 1,
   "metadata": {},
   "outputs": [
    {
     "name": "stderr",
     "output_type": "stream",
     "text": [
      "Using TensorFlow backend.\n"
     ]
    }
   ],
   "source": [
    "import warnings\n",
    "warnings.simplefilter('ignore')\n",
    "import os\n",
    "import PIL\n",
    "import imageio\n",
    "import pandas as pd\n",
    "import numpy as np\n",
    "import random\n",
    "import math\n",
    "import keras"
   ]
  },
  {
   "cell_type": "markdown",
   "metadata": {},
   "source": [
    "\n",
    "### Read data frame with information about pictures\n",
    "\n",
    "In the dataset, there is a data frame containing information about the pictures. Relevant for us are the columns:\n",
    "\n",
    "    path: path to the individual pictures\n",
    "    species: latin term for each plant\n",
    "    source: picture taken in lab or field\n",
    "\n"
   ]
  },
  {
   "cell_type": "code",
   "execution_count": 9,
   "metadata": {},
   "outputs": [
    {
     "data": {
      "text/html": [
       "<div>\n",
       "<style scoped>\n",
       "    .dataframe tbody tr th:only-of-type {\n",
       "        vertical-align: middle;\n",
       "    }\n",
       "\n",
       "    .dataframe tbody tr th {\n",
       "        vertical-align: top;\n",
       "    }\n",
       "\n",
       "    .dataframe thead th {\n",
       "        text-align: right;\n",
       "    }\n",
       "</style>\n",
       "<table border=\"1\" class=\"dataframe\">\n",
       "  <thead>\n",
       "    <tr style=\"text-align: right;\">\n",
       "      <th></th>\n",
       "      <th>file_id</th>\n",
       "      <th>image_path</th>\n",
       "      <th>species</th>\n",
       "      <th>source</th>\n",
       "    </tr>\n",
       "  </thead>\n",
       "  <tbody>\n",
       "    <tr>\n",
       "      <th>0</th>\n",
       "      <td>55821</td>\n",
       "      <td>dataset/images/lab/Auto_cropped/acer_campestre...</td>\n",
       "      <td>Acer campestre</td>\n",
       "      <td>lab</td>\n",
       "    </tr>\n",
       "    <tr>\n",
       "      <th>1</th>\n",
       "      <td>55822</td>\n",
       "      <td>dataset/images/lab/Auto_cropped/acer_campestre...</td>\n",
       "      <td>Acer campestre</td>\n",
       "      <td>lab</td>\n",
       "    </tr>\n",
       "    <tr>\n",
       "      <th>2</th>\n",
       "      <td>55823</td>\n",
       "      <td>dataset/images/lab/Auto_cropped/acer_campestre...</td>\n",
       "      <td>Acer campestre</td>\n",
       "      <td>lab</td>\n",
       "    </tr>\n",
       "    <tr>\n",
       "      <th>3</th>\n",
       "      <td>55824</td>\n",
       "      <td>dataset/images/lab/Auto_cropped/acer_campestre...</td>\n",
       "      <td>Acer campestre</td>\n",
       "      <td>lab</td>\n",
       "    </tr>\n",
       "    <tr>\n",
       "      <th>4</th>\n",
       "      <td>55825</td>\n",
       "      <td>dataset/images/lab/Auto_cropped/acer_campestre...</td>\n",
       "      <td>Acer campestre</td>\n",
       "      <td>lab</td>\n",
       "    </tr>\n",
       "  </tbody>\n",
       "</table>\n",
       "</div>"
      ],
      "text/plain": [
       "   file_id                                         image_path         species  \\\n",
       "0    55821  dataset/images/lab/Auto_cropped/acer_campestre...  Acer campestre   \n",
       "1    55822  dataset/images/lab/Auto_cropped/acer_campestre...  Acer campestre   \n",
       "2    55823  dataset/images/lab/Auto_cropped/acer_campestre...  Acer campestre   \n",
       "3    55824  dataset/images/lab/Auto_cropped/acer_campestre...  Acer campestre   \n",
       "4    55825  dataset/images/lab/Auto_cropped/acer_campestre...  Acer campestre   \n",
       "\n",
       "  source  \n",
       "0    lab  \n",
       "1    lab  \n",
       "2    lab  \n",
       "3    lab  \n",
       "4    lab  "
      ]
     },
     "execution_count": 9,
     "metadata": {},
     "output_type": "execute_result"
    }
   ],
   "source": [
    "# data paths\n",
    "original_data_path = \"/home/elena/eStep/XAI/Data/LeafSnap/leafsnap-dataset-20subset/\"\n",
    "#images_folder = os.join(original_data_patn, \"dataset\")\n",
    "dataset_info_file = os.path.join(original_data_path, \"leafsnap-dataset-20subset-images.txt\")\n",
    "\n",
    "img_info = pd.read_csv(dataset_info_file, sep=\"\\t\")\n",
    "img_info.head()"
   ]
  },
  {
   "cell_type": "code",
   "execution_count": null,
   "metadata": {},
   "outputs": [],
   "source": []
  }
 ],
 "metadata": {
  "kernelspec": {
   "display_name": "Python 3",
   "language": "python",
   "name": "python3"
  },
  "language_info": {
   "codemirror_mode": {
    "name": "ipython",
    "version": 3
   },
   "file_extension": ".py",
   "mimetype": "text/x-python",
   "name": "python",
   "nbconvert_exporter": "python",
   "pygments_lexer": "ipython3",
   "version": "3.6.7"
  }
 },
 "nbformat": 4,
 "nbformat_minor": 2
}
