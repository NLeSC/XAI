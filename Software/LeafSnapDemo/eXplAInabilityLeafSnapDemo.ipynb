{
 "cells": [
  {
   "cell_type": "markdown",
   "metadata": {},
   "source": [
    "# Explainability Demo on Simple scientific dataset\n",
    "\n",
    "*At the moment this is work in progress and in the experimental phase. If the experiment is successsful, e.g. we get meaningful heatmaps for the task, this will turn into a real demo!*\n",
    "\n",
    "**The purpose of this demo is to show the ability of DNN explainability method(s) to generate meanfingful heatmaps for the relevance of the input image pixels to the output resut of a CNN model. The task is chosen to be classification of images of leaves of 20 species of North American trees. The original dataset comes from LeafSnap - an app from 2012 for automatic classification of 185 species of trees. For this demo a subset of images taken in a lab(Smitsonian Insittute) from 20 species is used.**\n",
    "\n",
    "The explainability tool [iNNvestigate](https://github.com/albermax/innvestigate) is chosen as it offers open source implementatons of several explainability methods. Since it supports [Keras](https://keras.io/), the framework (with [Tensorflow](https://www.tensorflow.org/) as backend) is used to genrate the CNN model(s), though our vision is to go for at least [PyTorch](https://pytorch.org/) deep learning library and the related [Captum](https://captum.ai/) explainability library and definitely towards using DNN model standards such as [ONNX](https://onnx.ai/). This [list of explainability tools](https://github.com/NLeSC/XAI/blob/master/State-of-the-art/AI_Explainability_OSTools.docx) sumamrizes the availability of explainability tools.\n",
    "\n"
   ]
  },
  {
   "cell_type": "markdown",
   "metadata": {},
   "source": [
    "## Data preparation\n",
    "\n",
    "The original dataset has been downloaded from [kaggle.com](https://www.kaggle.com/xhlulu/leafsnap-dataset) as [leafsnap.com](leafsnap.com/dataset) is not available any more. It is stored at [SURF drive](https://surfdrive.surf.nl/files/index.php/s/MoCVal7gxS4aX51?path=%2Fdata%2FLeafSnap). There are 30 866 (~31k) color images of different sizes. The dataset covers all 185 tree species from the Northeastern United States.\n",
    "The original images of leaves taken from two different sources:\n",
    "  * \"Lab\" images, consisting of high-quality images taken of pressed leaves,\n",
    "    from the Smithsonian collection. \n",
    "  * \"Field\" images, consisting of \"typical\" images taken by mobile devices\n",
    "    (iPhones mostly) in outdoor environments. \n",
    "    \n",
    "* For the purpose of this demo, first a subset of 20 species of lab and field images has been selected. The lab images have been cropped semi-manually using IrfanView to remove the riles and color calibration image parts. This results in a small dataset of 3283 images.   \n",
    "    \n",
    "The notebook [Data Preparation 20 subset](https://github.com/NLeSC/XAI/blob/master/Software/LeafSnapDemo/Data_preparation_2osubset.ipynb) (based on a [student project notebook](https://github.com/Mathis1993/Leaf-Classification-CNN/blob/master/Complete_Workflow.ipynb)) is used to load the cropped images resize to images to 64x64, normalize the data and save the files as numpy compressed (NPZ). The resulting files are also stored on [SURF drive](https://surfdrive.surf.nl/files/index.php/s/MoCVal7gxS4aX51?path=%2Fdata%2FLeafSnap).\n",
    "\n",
    "* Then some data exprolation on the original dataset was performed. See notebook [Data Exploration](https://github.com/NLeSC/XAI/blob/master/Software/LeafSnapDemo/Data_exploration.ipynb).\n",
    "\n",
    "* Next, a subset of 30 species of lab and field images has been selected in order to improve the model performance.\n",
    "To the subset of 20 species, another unused so far 10 most populous (with the exception of Prunus virginiana as it seems having different species data) species have been added. The lab images have been cropped semi-manually using IrfanView to remove the riles and color calibration image parts. This results in a bigger dataset of 6136 images.  \n",
    "The notebook [Data Preparation 30 subset](https://github.com/NLeSC/XAI/blob/bc14be23c3b59c0a9691d146750919273c5ff591/Software/LeafSnapDemo/Data_preparation_30subset.ipynb) is used to load the cropped images resize to images to 64x64, normalize the data and save the files as numpy compressed (NPZ). The resulting files are also stored  on [SURF drive](https://surfdrive.surf.nl/files/index.php/s/MoCVal7gxS4aX51?path=%2Fdata%2FLeafSnap)."
   ]
  },
  {
   "cell_type": "markdown",
   "metadata": {},
   "source": [
    "## Model training and testing\n",
    "\n",
    "* The generated data per 20 class dataset have been split in 2298 images for training, 328 for validaiton and 657 for testing. Notebook for the [20 class subset model training and testing](https://github.com/NLeSC/XAI/blob/master/Software/LeafSnapDemo/TrainAndTestClassificationModel20.ipynb)\n",
    "The obtained accuracies are as follows: 93.91% on the train set and 69.21% on the validation set.\n",
    "The obtained test accuracy: 72.75 %.\n",
    "The training curves showed unrepresentative data, see [this blog](https://machinelearningmastery.com/learning-curves-for-diagnosing-machine-learning-model-performance/).\n",
    "\n",
    "* The generated data per 30 class dataset have been split in  images for training,  for validaiton and  for testing. Notebook for the [30 class subset model training and testing](https://github.com/NLeSC/XAI/blob/master/Software/LeafSnapDemo/TrainAndTestClassificationModel20.ipynb)\n",
    "The obtained accuracies are as follows: 82% on the train set and 74.81% on the validation set.\n",
    "The obtained test accuracy: 74.9 %.\n",
    "The model has been simpli"
   ]
  },
  {
   "cell_type": "markdown",
   "metadata": {},
   "source": [
    "## Explainability heatmaps\n",
    "\n",
    "The links to the notebooks for generating explainability heatmaps:\n",
    "\n",
    "\n",
    "\n",
    "-----------------------\n",
    "### Experiments\n",
    "\n",
    "^^^^^^^^^^^^^^^^^^^^^^\n",
    "#### Experiment1: "
   ]
  }
 ],
 "metadata": {
  "kernelspec": {
   "display_name": "Python 3",
   "language": "python",
   "name": "python3"
  },
  "language_info": {
   "codemirror_mode": {
    "name": "ipython",
    "version": 3
   },
   "file_extension": ".py",
   "mimetype": "text/x-python",
   "name": "python",
   "nbconvert_exporter": "python",
   "pygments_lexer": "ipython3",
   "version": "3.6.7"
  }
 },
 "nbformat": 4,
 "nbformat_minor": 2
}
