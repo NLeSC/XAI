{
 "cells": [
  {
   "cell_type": "markdown",
   "metadata": {},
   "source": [
    "### Load the data "
   ]
  },
  {
   "cell_type": "code",
   "execution_count": 15,
   "metadata": {},
   "outputs": [
    {
     "name": "stdout",
     "output_type": "stream",
     "text": [
      "Images size:  (6136, 64, 64, 3)\n"
     ]
    },
    {
     "data": {
      "text/html": [
       "<div>\n",
       "<style scoped>\n",
       "    .dataframe tbody tr th:only-of-type {\n",
       "        vertical-align: middle;\n",
       "    }\n",
       "\n",
       "    .dataframe tbody tr th {\n",
       "        vertical-align: top;\n",
       "    }\n",
       "\n",
       "    .dataframe thead th {\n",
       "        text-align: right;\n",
       "    }\n",
       "</style>\n",
       "<table border=\"1\" class=\"dataframe\">\n",
       "  <thead>\n",
       "    <tr style=\"text-align: right;\">\n",
       "      <th></th>\n",
       "      <th>filename</th>\n",
       "      <th>label</th>\n",
       "      <th>source</th>\n",
       "      <th>label_numeric</th>\n",
       "      <th>path</th>\n",
       "    </tr>\n",
       "  </thead>\n",
       "  <tbody>\n",
       "    <tr>\n",
       "      <th>6131</th>\n",
       "      <td>pi0057-05-1.jpg</td>\n",
       "      <td>Tilia americana</td>\n",
       "      <td>lab</td>\n",
       "      <td>15</td>\n",
       "      <td>dataset/images/lab/Auto_cropped/tilia_american...</td>\n",
       "    </tr>\n",
       "    <tr>\n",
       "      <th>6132</th>\n",
       "      <td>wb1194-05-2.jpg</td>\n",
       "      <td>Betula lenta</td>\n",
       "      <td>lab</td>\n",
       "      <td>3</td>\n",
       "      <td>dataset/images/lab/Auto_cropped/betula_lenta/w...</td>\n",
       "    </tr>\n",
       "    <tr>\n",
       "      <th>6133</th>\n",
       "      <td>pi0005-05-3.jpg</td>\n",
       "      <td>Ptelea trifoliata</td>\n",
       "      <td>lab</td>\n",
       "      <td>25</td>\n",
       "      <td>dataset/images/lab/Auto_cropped/ptelea_trifoli...</td>\n",
       "    </tr>\n",
       "    <tr>\n",
       "      <th>6134</th>\n",
       "      <td>ny1124-02-2.jpg</td>\n",
       "      <td>Broussonettia papyrifera</td>\n",
       "      <td>lab</td>\n",
       "      <td>23</td>\n",
       "      <td>dataset/images/lab/Auto_cropped/broussonettia_...</td>\n",
       "    </tr>\n",
       "    <tr>\n",
       "      <th>6135</th>\n",
       "      <td>1249580214_0004.jpg</td>\n",
       "      <td>Magnolia grandiflora</td>\n",
       "      <td>field</td>\n",
       "      <td>8</td>\n",
       "      <td>dataset/images/field/magnolia_grandiflora/1249...</td>\n",
       "    </tr>\n",
       "  </tbody>\n",
       "</table>\n",
       "</div>"
      ],
      "text/plain": [
       "                 filename                     label source  label_numeric  \\\n",
       "6131      pi0057-05-1.jpg           Tilia americana    lab             15   \n",
       "6132      wb1194-05-2.jpg              Betula lenta    lab              3   \n",
       "6133      pi0005-05-3.jpg         Ptelea trifoliata    lab             25   \n",
       "6134      ny1124-02-2.jpg  Broussonettia papyrifera    lab             23   \n",
       "6135  1249580214_0004.jpg      Magnolia grandiflora  field              8   \n",
       "\n",
       "                                                   path  \n",
       "6131  dataset/images/lab/Auto_cropped/tilia_american...  \n",
       "6132  dataset/images/lab/Auto_cropped/betula_lenta/w...  \n",
       "6133  dataset/images/lab/Auto_cropped/ptelea_trifoli...  \n",
       "6134  dataset/images/lab/Auto_cropped/broussonettia_...  \n",
       "6135  dataset/images/field/magnolia_grandiflora/1249...  "
      ]
     },
     "execution_count": 15,
     "metadata": {},
     "output_type": "execute_result"
    }
   ],
   "source": [
    "import os \n",
    "import numpy as np\n",
    "import pandas as pd\n",
    "from code import data as d\n",
    "\n",
    "\n",
    "original_data_path = \"/home/elena/eStep/XAI/Data/LeafSnap/leafsnap-dataset-30subset/\"\n",
    "images_fname = os.path.join(original_data_path, \"images.npz\")\n",
    "labels_fname = os.path.join(original_data_path, \"labels.npz\")\n",
    "info_fname_rand = os.path.join(original_data_path, \"leafsnap-dataset-30subset-images-enhanced-randomized.txt\")\n",
    "\n",
    "# load data\n",
    "image_data = np.load(images_fname)\n",
    "labels_data = np.load(labels_fname)\n",
    "info_data = pd.read_csv(info_fname_rand,sep=r'\\s*,\\s*',header=0, encoding='ascii', engine='python')\n",
    "\n",
    "images = image_data['images']\n",
    "labels_one_hot = labels_data['labels_one_hot']\n",
    "\n",
    "print('Images size: ', np.shape(images))\n",
    "\n",
    "nim = len(labels_one_hot)\n",
    "\n",
    "info_data.tail()"
   ]
  },
  {
   "cell_type": "markdown",
   "metadata": {},
   "source": [
    "### Split the data "
   ]
  },
  {
   "cell_type": "code",
   "execution_count": 16,
   "metadata": {},
   "outputs": [
    {
     "name": "stdout",
     "output_type": "stream",
     "text": [
      "Image size - train set:  (4295, 64, 64, 3)\n",
      "Image size - test set:  (614, 64, 64, 3)\n",
      "Indicies:  4295 ,  5522\n"
     ]
    }
   ],
   "source": [
    "[images_train, _, images_test,_, _, _,end_train_ind, end_val_ind] = d.split_data(images,labels_one_hot)\n",
    "print('Image size - train set: ', np.shape(images_train))\n",
    "print('Image size - test set: ', np.shape(images_test)) \n",
    "\n",
    "print('Indicies: ', end_train_ind,', ', end_val_ind)"
   ]
  },
  {
   "cell_type": "code",
   "execution_count": 19,
   "metadata": {},
   "outputs": [
    {
     "name": "stdout",
     "output_type": "stream",
     "text": [
      "0            Maclura pomifera\n",
      "1            Acer platanoides\n",
      "2                  Ilex opaca\n",
      "3                 Acer rubrum\n",
      "4    Broussonettia papyrifera\n",
      "Name: label, dtype: object\n",
      "Acer platanoides\n",
      "-------------------------\n",
      "5522         Abies concolor\n",
      "5523            Acer rubrum\n",
      "5524        Ulmus americana\n",
      "5525    Celtis occidentalis\n",
      "5526     Magnolia acuminata\n",
      "Name: label, dtype: object\n",
      "Acer rubrum\n"
     ]
    }
   ],
   "source": [
    "# splitting some of of the info data\n",
    "labels_train = info_data.loc[:end_train_ind, \"label\"]\n",
    "labels_test = info_data.loc[end_val_ind:nim, \"label\"]\n",
    "\n",
    "print(labels_train.head())\n",
    "print(labels_train[1])\n",
    "print('-------------------------')\n",
    "print(labels_test.head())\n",
    "print(labels_test[end_val_ind+1])"
   ]
  },
  {
   "cell_type": "code",
   "execution_count": null,
   "metadata": {},
   "outputs": [],
   "source": []
  }
 ],
 "metadata": {
  "kernelspec": {
   "display_name": "Python 3",
   "language": "python",
   "name": "python3"
  },
  "language_info": {
   "codemirror_mode": {
    "name": "ipython",
    "version": 3
   },
   "file_extension": ".py",
   "mimetype": "text/x-python",
   "name": "python",
   "nbconvert_exporter": "python",
   "pygments_lexer": "ipython3",
   "version": "3.6.7"
  }
 },
 "nbformat": 4,
 "nbformat_minor": 2
}
