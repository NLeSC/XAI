{
 "cells": [
  {
   "cell_type": "markdown",
   "metadata": {},
   "source": [
    "# LeafSnap data exploration"
   ]
  },
  {
   "cell_type": "markdown",
   "metadata": {},
   "source": [
    "The original dataset has been downloaded from [kaggle.com](https://www.kaggle.com/xhlulu/leafsnap-dataset) as [leafsnap.com](leafsnap.com/dataset) is not available any more. It is stored at [SURF drive](https://surfdrive.surf.nl/files/index.php/s/MoCVal7gxS4aX51?path=%2Fdata%2FLeafSnap). There are 30 866 (~31k) color images of different sizes. The dataset covers all 185 tree species from the Northeastern United States. The original images of leaves taken from two different sources:\n",
    "\n",
    "    \"Lab\" images, consisting of high-quality images taken of pressed leaves, from the Smithsonian collection.\n",
    "    \"Field\" images, consisting of \"typical\" images taken by mobile devices (iPhones mostly) in outdoor environments.\n",
    "\n",
    "For the purpose of this demo we want to select a subset of 30 species of lab and field images has been selected. Already a [dataset of 20 classes](https://github.com/NLeSC/XAI/blob/master/Software/LeafSnapDemo/Data_preparation_20subset.ipynb) have been selected, where the lab images have been cropped semi-manually using IrfanView to remove the riles and color calibration image parts. This resulted in a small dataset of 3283 images.\n",
    "\n",
    "This notebook is used to explore the original dataset and find out the most polpulous 10 classes which have not been included yet int he 20-class dataset."
   ]
  },
  {
   "cell_type": "markdown",
   "metadata": {},
   "source": [
    "### Imports"
   ]
  },
  {
   "cell_type": "code",
   "execution_count": 73,
   "metadata": {},
   "outputs": [],
   "source": [
    "import warnings\n",
    "warnings.simplefilter('ignore')\n",
    "import os\n",
    "import PIL\n",
    "import imageio\n",
    "import pandas as pd\n",
    "import numpy as np"
   ]
  },
  {
   "cell_type": "markdown",
   "metadata": {},
   "source": [
    "\n",
    "### Read data frame with information about pictures\n",
    "\n",
    "In the dataset, there is a data frame containing information about the pictures. Relevant for us are the columns:\n",
    "\n",
    "    path: path to the individual pictures\n",
    "    species: latin term for each plant\n",
    "    source: picture taken in lab or field\n",
    "\n"
   ]
  },
  {
   "cell_type": "code",
   "execution_count": 74,
   "metadata": {},
   "outputs": [
    {
     "data": {
      "text/html": [
       "<div>\n",
       "<style scoped>\n",
       "    .dataframe tbody tr th:only-of-type {\n",
       "        vertical-align: middle;\n",
       "    }\n",
       "\n",
       "    .dataframe tbody tr th {\n",
       "        vertical-align: top;\n",
       "    }\n",
       "\n",
       "    .dataframe thead th {\n",
       "        text-align: right;\n",
       "    }\n",
       "</style>\n",
       "<table border=\"1\" class=\"dataframe\">\n",
       "  <thead>\n",
       "    <tr style=\"text-align: right;\">\n",
       "      <th></th>\n",
       "      <th>file_id</th>\n",
       "      <th>image_path</th>\n",
       "      <th>segmented_path</th>\n",
       "      <th>species</th>\n",
       "      <th>source</th>\n",
       "    </tr>\n",
       "  </thead>\n",
       "  <tbody>\n",
       "    <tr>\n",
       "      <th>0</th>\n",
       "      <td>55497</td>\n",
       "      <td>dataset/images/lab/abies_concolor/ny1157-01-1.jpg</td>\n",
       "      <td>dataset/segmented/lab/abies_concolor/ny1157-01...</td>\n",
       "      <td>Abies concolor</td>\n",
       "      <td>lab</td>\n",
       "    </tr>\n",
       "    <tr>\n",
       "      <th>1</th>\n",
       "      <td>55498</td>\n",
       "      <td>dataset/images/lab/abies_concolor/ny1157-01-2.jpg</td>\n",
       "      <td>dataset/segmented/lab/abies_concolor/ny1157-01...</td>\n",
       "      <td>Abies concolor</td>\n",
       "      <td>lab</td>\n",
       "    </tr>\n",
       "    <tr>\n",
       "      <th>2</th>\n",
       "      <td>55499</td>\n",
       "      <td>dataset/images/lab/abies_concolor/ny1157-01-3.jpg</td>\n",
       "      <td>dataset/segmented/lab/abies_concolor/ny1157-01...</td>\n",
       "      <td>Abies concolor</td>\n",
       "      <td>lab</td>\n",
       "    </tr>\n",
       "    <tr>\n",
       "      <th>3</th>\n",
       "      <td>55500</td>\n",
       "      <td>dataset/images/lab/abies_concolor/ny1157-01-4.jpg</td>\n",
       "      <td>dataset/segmented/lab/abies_concolor/ny1157-01...</td>\n",
       "      <td>Abies concolor</td>\n",
       "      <td>lab</td>\n",
       "    </tr>\n",
       "    <tr>\n",
       "      <th>4</th>\n",
       "      <td>55501</td>\n",
       "      <td>dataset/images/lab/abies_concolor/ny1157-02-1.jpg</td>\n",
       "      <td>dataset/segmented/lab/abies_concolor/ny1157-02...</td>\n",
       "      <td>Abies concolor</td>\n",
       "      <td>lab</td>\n",
       "    </tr>\n",
       "  </tbody>\n",
       "</table>\n",
       "</div>"
      ],
      "text/plain": [
       "   file_id                                         image_path  \\\n",
       "0    55497  dataset/images/lab/abies_concolor/ny1157-01-1.jpg   \n",
       "1    55498  dataset/images/lab/abies_concolor/ny1157-01-2.jpg   \n",
       "2    55499  dataset/images/lab/abies_concolor/ny1157-01-3.jpg   \n",
       "3    55500  dataset/images/lab/abies_concolor/ny1157-01-4.jpg   \n",
       "4    55501  dataset/images/lab/abies_concolor/ny1157-02-1.jpg   \n",
       "\n",
       "                                      segmented_path         species source  \n",
       "0  dataset/segmented/lab/abies_concolor/ny1157-01...  Abies concolor    lab  \n",
       "1  dataset/segmented/lab/abies_concolor/ny1157-01...  Abies concolor    lab  \n",
       "2  dataset/segmented/lab/abies_concolor/ny1157-01...  Abies concolor    lab  \n",
       "3  dataset/segmented/lab/abies_concolor/ny1157-01...  Abies concolor    lab  \n",
       "4  dataset/segmented/lab/abies_concolor/ny1157-02...  Abies concolor    lab  "
      ]
     },
     "execution_count": 74,
     "metadata": {},
     "output_type": "execute_result"
    }
   ],
   "source": [
    "# original dataset\n",
    "data_path = \"/home/elena/eStep/XAI/Data/LeafSnap/\"\n",
    "dataset_data_path = os.path.join(data_path, \"leafsnap-dataset\")\n",
    "dataset_info_file = os.path.join(dataset_data_path, \"leafsnap-dataset-images.txt\")\n",
    "\n",
    "img_info = pd.read_csv(dataset_info_file, sep=\"\\t\")\n",
    "img_info.head()"
   ]
  },
  {
   "cell_type": "code",
   "execution_count": 75,
   "metadata": {},
   "outputs": [
    {
     "data": {
      "text/html": [
       "<div>\n",
       "<style scoped>\n",
       "    .dataframe tbody tr th:only-of-type {\n",
       "        vertical-align: middle;\n",
       "    }\n",
       "\n",
       "    .dataframe tbody tr th {\n",
       "        vertical-align: top;\n",
       "    }\n",
       "\n",
       "    .dataframe thead th {\n",
       "        text-align: right;\n",
       "    }\n",
       "</style>\n",
       "<table border=\"1\" class=\"dataframe\">\n",
       "  <thead>\n",
       "    <tr style=\"text-align: right;\">\n",
       "      <th></th>\n",
       "      <th>file_id</th>\n",
       "      <th>image_path</th>\n",
       "      <th>species</th>\n",
       "      <th>source</th>\n",
       "    </tr>\n",
       "  </thead>\n",
       "  <tbody>\n",
       "    <tr>\n",
       "      <th>0</th>\n",
       "      <td>55821</td>\n",
       "      <td>dataset/images/lab/Auto_cropped/acer_campestre...</td>\n",
       "      <td>Acer campestre</td>\n",
       "      <td>lab</td>\n",
       "    </tr>\n",
       "    <tr>\n",
       "      <th>1</th>\n",
       "      <td>55822</td>\n",
       "      <td>dataset/images/lab/Auto_cropped/acer_campestre...</td>\n",
       "      <td>Acer campestre</td>\n",
       "      <td>lab</td>\n",
       "    </tr>\n",
       "    <tr>\n",
       "      <th>2</th>\n",
       "      <td>55823</td>\n",
       "      <td>dataset/images/lab/Auto_cropped/acer_campestre...</td>\n",
       "      <td>Acer campestre</td>\n",
       "      <td>lab</td>\n",
       "    </tr>\n",
       "    <tr>\n",
       "      <th>3</th>\n",
       "      <td>55824</td>\n",
       "      <td>dataset/images/lab/Auto_cropped/acer_campestre...</td>\n",
       "      <td>Acer campestre</td>\n",
       "      <td>lab</td>\n",
       "    </tr>\n",
       "    <tr>\n",
       "      <th>4</th>\n",
       "      <td>55825</td>\n",
       "      <td>dataset/images/lab/Auto_cropped/acer_campestre...</td>\n",
       "      <td>Acer campestre</td>\n",
       "      <td>lab</td>\n",
       "    </tr>\n",
       "  </tbody>\n",
       "</table>\n",
       "</div>"
      ],
      "text/plain": [
       "   file_id                                         image_path         species  \\\n",
       "0    55821  dataset/images/lab/Auto_cropped/acer_campestre...  Acer campestre   \n",
       "1    55822  dataset/images/lab/Auto_cropped/acer_campestre...  Acer campestre   \n",
       "2    55823  dataset/images/lab/Auto_cropped/acer_campestre...  Acer campestre   \n",
       "3    55824  dataset/images/lab/Auto_cropped/acer_campestre...  Acer campestre   \n",
       "4    55825  dataset/images/lab/Auto_cropped/acer_campestre...  Acer campestre   \n",
       "\n",
       "  source  \n",
       "0    lab  \n",
       "1    lab  \n",
       "2    lab  \n",
       "3    lab  \n",
       "4    lab  "
      ]
     },
     "execution_count": 75,
     "metadata": {},
     "output_type": "execute_result"
    }
   ],
   "source": [
    "subset20_data_path = os.path.join(data_path, \"leafsnap-dataset-20subset\")\n",
    "subset20_info_file = os.path.join(subset20_data_path, \"leafsnap-dataset-20subset-images.txt\")\n",
    "\n",
    "img_info20 = pd.read_csv(subset20_info_file, sep=\"\\t\")\n",
    "img_info20.head()"
   ]
  },
  {
   "cell_type": "markdown",
   "metadata": {},
   "source": [
    "### Get the top 15 most populous species from the original dataset"
   ]
  },
  {
   "cell_type": "code",
   "execution_count": 76,
   "metadata": {},
   "outputs": [
    {
     "name": "stdout",
     "output_type": "stream",
     "text": [
      "Maclura pomifera            448\n",
      "Ulmus rubra                 317\n",
      "Prunus virginiana           303\n",
      "Acer rubrum                 297\n",
      "Broussonettia papyrifera    294\n",
      "Prunus sargentii            288\n",
      "Ptelea trifoliata           270\n",
      "Ulmus pumila                265\n",
      "Abies concolor              251\n",
      "Asimina triloba             249\n",
      "Diospyros virginiana        248\n",
      "Quercus montana             247\n",
      "Ilex opaca                  244\n",
      "Liriodendron tulipifera     235\n",
      "Acer negundo                229\n",
      "Name: species, dtype: int64\n"
     ]
    }
   ],
   "source": [
    "species = img_info[\"species\"]\n",
    "species.describe()\n",
    "species_counts = species.value_counts()\n",
    "top15_species_counts = species_counts.head(15)\n",
    "print(top15_species_counts)"
   ]
  },
  {
   "cell_type": "code",
   "execution_count": 77,
   "metadata": {},
   "outputs": [
    {
     "data": {
      "text/plain": [
       "count                30866\n",
       "unique                 185\n",
       "top       Maclura pomifera\n",
       "freq                   448\n",
       "Name: species, dtype: object"
      ]
     },
     "execution_count": 77,
     "metadata": {},
     "output_type": "execute_result"
    }
   ],
   "source": [
    "species = img_info[\"species\"]\n",
    "species.describe()"
   ]
  },
  {
   "cell_type": "code",
   "execution_count": 78,
   "metadata": {},
   "outputs": [
    {
     "name": "stdout",
     "output_type": "stream",
     "text": [
      "<class 'pandas.core.frame.DataFrame'>\n",
      "Index: 15 entries, Maclura pomifera to Acer negundo\n",
      "Data columns (total 1 columns):\n",
      "species    15 non-null int64\n",
      "dtypes: int64(1)\n",
      "memory usage: 240.0+ bytes\n"
     ]
    }
   ],
   "source": [
    "top15_species_counts = species.value_counts().head(15).to_frame()\n",
    "top15_species_counts.info()"
   ]
  },
  {
   "cell_type": "code",
   "execution_count": 79,
   "metadata": {},
   "outputs": [
    {
     "data": {
      "text/html": [
       "<div>\n",
       "<style scoped>\n",
       "    .dataframe tbody tr th:only-of-type {\n",
       "        vertical-align: middle;\n",
       "    }\n",
       "\n",
       "    .dataframe tbody tr th {\n",
       "        vertical-align: top;\n",
       "    }\n",
       "\n",
       "    .dataframe thead th {\n",
       "        text-align: right;\n",
       "    }\n",
       "</style>\n",
       "<table border=\"1\" class=\"dataframe\">\n",
       "  <thead>\n",
       "    <tr style=\"text-align: right;\">\n",
       "      <th></th>\n",
       "      <th>species</th>\n",
       "    </tr>\n",
       "  </thead>\n",
       "  <tbody>\n",
       "    <tr>\n",
       "      <th>Maclura pomifera</th>\n",
       "      <td>448</td>\n",
       "    </tr>\n",
       "    <tr>\n",
       "      <th>Ulmus rubra</th>\n",
       "      <td>317</td>\n",
       "    </tr>\n",
       "    <tr>\n",
       "      <th>Prunus virginiana</th>\n",
       "      <td>303</td>\n",
       "    </tr>\n",
       "    <tr>\n",
       "      <th>Acer rubrum</th>\n",
       "      <td>297</td>\n",
       "    </tr>\n",
       "    <tr>\n",
       "      <th>Broussonettia papyrifera</th>\n",
       "      <td>294</td>\n",
       "    </tr>\n",
       "    <tr>\n",
       "      <th>Prunus sargentii</th>\n",
       "      <td>288</td>\n",
       "    </tr>\n",
       "    <tr>\n",
       "      <th>Ptelea trifoliata</th>\n",
       "      <td>270</td>\n",
       "    </tr>\n",
       "    <tr>\n",
       "      <th>Ulmus pumila</th>\n",
       "      <td>265</td>\n",
       "    </tr>\n",
       "    <tr>\n",
       "      <th>Abies concolor</th>\n",
       "      <td>251</td>\n",
       "    </tr>\n",
       "    <tr>\n",
       "      <th>Asimina triloba</th>\n",
       "      <td>249</td>\n",
       "    </tr>\n",
       "    <tr>\n",
       "      <th>Diospyros virginiana</th>\n",
       "      <td>248</td>\n",
       "    </tr>\n",
       "    <tr>\n",
       "      <th>Quercus montana</th>\n",
       "      <td>247</td>\n",
       "    </tr>\n",
       "    <tr>\n",
       "      <th>Ilex opaca</th>\n",
       "      <td>244</td>\n",
       "    </tr>\n",
       "    <tr>\n",
       "      <th>Liriodendron tulipifera</th>\n",
       "      <td>235</td>\n",
       "    </tr>\n",
       "    <tr>\n",
       "      <th>Acer negundo</th>\n",
       "      <td>229</td>\n",
       "    </tr>\n",
       "  </tbody>\n",
       "</table>\n",
       "</div>"
      ],
      "text/plain": [
       "                          species\n",
       "Maclura pomifera              448\n",
       "Ulmus rubra                   317\n",
       "Prunus virginiana             303\n",
       "Acer rubrum                   297\n",
       "Broussonettia papyrifera      294\n",
       "Prunus sargentii              288\n",
       "Ptelea trifoliata             270\n",
       "Ulmus pumila                  265\n",
       "Abies concolor                251\n",
       "Asimina triloba               249\n",
       "Diospyros virginiana          248\n",
       "Quercus montana               247\n",
       "Ilex opaca                    244\n",
       "Liriodendron tulipifera       235\n",
       "Acer negundo                  229"
      ]
     },
     "execution_count": 79,
     "metadata": {},
     "output_type": "execute_result"
    }
   ],
   "source": [
    "top15_species_counts"
   ]
  },
  {
   "cell_type": "markdown",
   "metadata": {},
   "source": [
    "### Find possible intersection of top 15 populous species and the 20 subset"
   ]
  },
  {
   "cell_type": "code",
   "execution_count": 80,
   "metadata": {},
   "outputs": [
    {
     "data": {
      "text/plain": [
       "count            3283\n",
       "unique             20\n",
       "top       Ulmus rubra\n",
       "freq              317\n",
       "Name: species, dtype: object"
      ]
     },
     "execution_count": 80,
     "metadata": {},
     "output_type": "execute_result"
    }
   ],
   "source": [
    "species20 = img_info20[\"species\"]\n",
    "species20.describe()"
   ]
  },
  {
   "cell_type": "code",
   "execution_count": 81,
   "metadata": {},
   "outputs": [
    {
     "name": "stdout",
     "output_type": "stream",
     "text": [
      "<class 'pandas.core.frame.DataFrame'>\n",
      "Index: 20 entries, Ulmus rubra to Quercus rubra\n",
      "Data columns (total 1 columns):\n",
      "species    20 non-null int64\n",
      "dtypes: int64(1)\n",
      "memory usage: 320.0+ bytes\n"
     ]
    }
   ],
   "source": [
    "species20_counts = species20.value_counts().to_frame()\n",
    "species20_counts.info()"
   ]
  },
  {
   "cell_type": "code",
   "execution_count": 82,
   "metadata": {},
   "outputs": [
    {
     "data": {
      "text/html": [
       "<div>\n",
       "<style scoped>\n",
       "    .dataframe tbody tr th:only-of-type {\n",
       "        vertical-align: middle;\n",
       "    }\n",
       "\n",
       "    .dataframe tbody tr th {\n",
       "        vertical-align: top;\n",
       "    }\n",
       "\n",
       "    .dataframe thead th {\n",
       "        text-align: right;\n",
       "    }\n",
       "</style>\n",
       "<table border=\"1\" class=\"dataframe\">\n",
       "  <thead>\n",
       "    <tr style=\"text-align: right;\">\n",
       "      <th></th>\n",
       "      <th>species</th>\n",
       "    </tr>\n",
       "  </thead>\n",
       "  <tbody>\n",
       "    <tr>\n",
       "      <th>Ulmus rubra</th>\n",
       "      <td>317</td>\n",
       "    </tr>\n",
       "    <tr>\n",
       "      <th>Diospyros virginiana</th>\n",
       "      <td>248</td>\n",
       "    </tr>\n",
       "    <tr>\n",
       "      <th>Ulmus americana</th>\n",
       "      <td>215</td>\n",
       "    </tr>\n",
       "    <tr>\n",
       "      <th>Salix nigra</th>\n",
       "      <td>197</td>\n",
       "    </tr>\n",
       "    <tr>\n",
       "      <th>Platanus occidentalis</th>\n",
       "      <td>188</td>\n",
       "    </tr>\n",
       "    <tr>\n",
       "      <th>Zelkova serrata</th>\n",
       "      <td>183</td>\n",
       "    </tr>\n",
       "    <tr>\n",
       "      <th>Quercus alba</th>\n",
       "      <td>175</td>\n",
       "    </tr>\n",
       "    <tr>\n",
       "      <th>Tilia americana</th>\n",
       "      <td>159</td>\n",
       "    </tr>\n",
       "    <tr>\n",
       "      <th>Magnolia acuminata</th>\n",
       "      <td>148</td>\n",
       "    </tr>\n",
       "    <tr>\n",
       "      <th>Quercus bicolor</th>\n",
       "      <td>145</td>\n",
       "    </tr>\n",
       "    <tr>\n",
       "      <th>Acer campestre</th>\n",
       "      <td>144</td>\n",
       "    </tr>\n",
       "    <tr>\n",
       "      <th>Platanus acerifolia</th>\n",
       "      <td>140</td>\n",
       "    </tr>\n",
       "    <tr>\n",
       "      <th>Betula nigra</th>\n",
       "      <td>140</td>\n",
       "    </tr>\n",
       "    <tr>\n",
       "      <th>Acer platanoides</th>\n",
       "      <td>140</td>\n",
       "    </tr>\n",
       "    <tr>\n",
       "      <th>Aesculus hippocastamon</th>\n",
       "      <td>139</td>\n",
       "    </tr>\n",
       "    <tr>\n",
       "      <th>Tilia europaea</th>\n",
       "      <td>135</td>\n",
       "    </tr>\n",
       "    <tr>\n",
       "      <th>Magnolia grandiflora</th>\n",
       "      <td>135</td>\n",
       "    </tr>\n",
       "    <tr>\n",
       "      <th>Celtis occidentalis</th>\n",
       "      <td>133</td>\n",
       "    </tr>\n",
       "    <tr>\n",
       "      <th>Betula lenta</th>\n",
       "      <td>131</td>\n",
       "    </tr>\n",
       "    <tr>\n",
       "      <th>Quercus rubra</th>\n",
       "      <td>71</td>\n",
       "    </tr>\n",
       "  </tbody>\n",
       "</table>\n",
       "</div>"
      ],
      "text/plain": [
       "                        species\n",
       "Ulmus rubra                 317\n",
       "Diospyros virginiana        248\n",
       "Ulmus americana             215\n",
       "Salix nigra                 197\n",
       "Platanus occidentalis       188\n",
       "Zelkova serrata             183\n",
       "Quercus alba                175\n",
       "Tilia americana             159\n",
       "Magnolia acuminata          148\n",
       "Quercus bicolor             145\n",
       "Acer campestre              144\n",
       "Platanus acerifolia         140\n",
       "Betula nigra                140\n",
       "Acer platanoides            140\n",
       "Aesculus hippocastamon      139\n",
       "Tilia europaea              135\n",
       "Magnolia grandiflora        135\n",
       "Celtis occidentalis         133\n",
       "Betula lenta                131\n",
       "Quercus rubra                71"
      ]
     },
     "execution_count": 82,
     "metadata": {},
     "output_type": "execute_result"
    }
   ],
   "source": [
    "species20_counts"
   ]
  },
  {
   "cell_type": "code",
   "execution_count": 83,
   "metadata": {},
   "outputs": [
    {
     "name": "stdout",
     "output_type": "stream",
     "text": [
      "<class 'pandas.core.frame.DataFrame'>\n",
      "Int64Index: 2 entries, 0 to 1\n",
      "Data columns (total 1 columns):\n",
      "species    2 non-null int64\n",
      "dtypes: int64(1)\n",
      "memory usage: 32.0 bytes\n"
     ]
    }
   ],
   "source": [
    "common_species = pd.merge(top15_species_counts,species20_counts)\n",
    "common_species.info()"
   ]
  },
  {
   "cell_type": "code",
   "execution_count": 84,
   "metadata": {},
   "outputs": [
    {
     "name": "stdout",
     "output_type": "stream",
     "text": [
      "   species\n",
      "0      317\n",
      "1      248\n"
     ]
    }
   ],
   "source": [
    "print(common_species)"
   ]
  },
  {
   "cell_type": "markdown",
   "metadata": {},
   "source": [
    "### Remove the common species from the most populous and select the top 10"
   ]
  },
  {
   "cell_type": "code",
   "execution_count": 85,
   "metadata": {},
   "outputs": [
    {
     "name": "stdout",
     "output_type": "stream",
     "text": [
      "                          species\n",
      "Maclura pomifera              448\n",
      "Prunus virginiana             303\n",
      "Acer rubrum                   297\n",
      "Broussonettia papyrifera      294\n",
      "Prunus sargentii              288\n",
      "Ptelea trifoliata             270\n",
      "Ulmus pumila                  265\n",
      "Abies concolor                251\n",
      "Asimina triloba               249\n",
      "Quercus montana               247\n"
     ]
    }
   ],
   "source": [
    "top10_unused_species_count = pd.concat([top15_species_counts, common_species]).drop_duplicates(keep=False).head(10)\n",
    "print(top10_unused_species_count)"
   ]
  },
  {
   "cell_type": "code",
   "execution_count": null,
   "metadata": {},
   "outputs": [],
   "source": []
  }
 ],
 "metadata": {
  "kernelspec": {
   "display_name": "Python 3",
   "language": "python",
   "name": "python3"
  },
  "language_info": {
   "codemirror_mode": {
    "name": "ipython",
    "version": 3
   },
   "file_extension": ".py",
   "mimetype": "text/x-python",
   "name": "python",
   "nbconvert_exporter": "python",
   "pygments_lexer": "ipython3",
   "version": "3.6.7"
  }
 },
 "nbformat": 4,
 "nbformat_minor": 2
}
