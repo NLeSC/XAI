{
 "cells": [
  {
   "cell_type": "markdown",
   "metadata": {},
   "source": [
    "# Explainability maps continuum? \n",
    "## XAI methods: DeepTaylor, PatternAttribution and LRP Epsilon \n",
    "### on the Triangles and Squares (Rotaion & Scaling) dataset using iNNvestigate "
   ]
  },
  {
   "cell_type": "markdown",
   "metadata": {},
   "source": [
    "## Imports"
   ]
  },
  {
   "cell_type": "code",
   "execution_count": 1,
   "metadata": {},
   "outputs": [
    {
     "name": "stderr",
     "output_type": "stream",
     "text": [
      "Using TensorFlow backend.\n"
     ]
    }
   ],
   "source": [
    "%matplotlib inline  \n",
    "%load_ext autoreload\n",
    "%autoreload 2\n",
    "\n",
    "import warnings\n",
    "warnings.simplefilter('ignore')\n",
    "\n",
    "import imp\n",
    "import numpy as np\n",
    "from numpy import load\n",
    "import os.path\n",
    "import matplotlib.pyplot as plt\n",
    "\n",
    "import keras.backend as K\n",
    "if(K.tensorflow_backend):\n",
    "    import tensorflow as tf\n",
    "    tf.logging.set_verbosity(tf.logging.ERROR)\n",
    "from keras.utils import np_utils\n",
    "from keras.models import load_model\n",
    "\n",
    "import innvestigate\n",
    "import innvestigate.utils as iutils\n",
    "mnistutils = imp.load_source(\"utils_mnist\", \"/home/elena/eStep/XAI/Software/innvestigate/examples/utils_mnist.py\")\n",
    "eutils = imp.load_source(\"utils\", \"/home/elena/eStep/XAI/Software/innvestigate/examples/utils.py\")\n",
    "\n",
    "from code import shape_images as shi\n"
   ]
  },
  {
   "cell_type": "markdown",
   "metadata": {},
   "source": [
    "## Load the data"
   ]
  },
  {
   "cell_type": "code",
   "execution_count": 2,
   "metadata": {},
   "outputs": [],
   "source": [
    "# filenames\n",
    "# data paths\n",
    "original_data_path = \"/home/elena/eStep/XAI/Data/TrianglesAndSquaresRotationScale\"\n",
    "\n",
    "test_data_fname = os.path.join(original_data_path, 'split_npz','test_data.npz')\n",
    "\n",
    "# loading\n",
    "test_data = np.load(test_data_fname)"
   ]
  },
  {
   "cell_type": "code",
   "execution_count": 3,
   "metadata": {},
   "outputs": [
    {
     "name": "stdout",
     "output_type": "stream",
     "text": [
      "Size of testing data:  (2000, 4096) and labels:  (2000,)\n"
     ]
    }
   ],
   "source": [
    "images_test = test_data['images_test']\n",
    "labels_test = test_data['labels_test']\n",
    "\n",
    "print(\"Size of testing data: \", np.shape(images_test), \"and labels: \", np.shape(labels_test))"
   ]
  },
  {
   "cell_type": "code",
   "execution_count": 4,
   "metadata": {},
   "outputs": [
    {
     "name": "stdout",
     "output_type": "stream",
     "text": [
      "Size of testing data:  (2000, 64, 64, 1)\n"
     ]
    }
   ],
   "source": [
    "img_rows = 64\n",
    "img_cols = 64\n",
    "if K.image_data_format() == 'channels_first':\n",
    "    images_test = images_test.reshape(images_test.shape[0], 1, img_rows, img_cols)\n",
    "    input_shape = (1, img_rows, img_cols)\n",
    "else:\n",
    "    images_test = images_test.reshape(images_test.shape[0], img_rows, img_cols, 1)\n",
    "    input_shape = (img_rows, img_cols, 1)\n",
    "print(\"Size of testing data: \", np.shape(images_test))"
   ]
  },
  {
   "cell_type": "code",
   "execution_count": 5,
   "metadata": {},
   "outputs": [
    {
     "data": {
      "image/png": "[encoded data removed]",
      "text/plain": [
       "<Figure size 576x432 with 12 Axes>"
      ]
     },
     "metadata": {},
     "output_type": "display_data"
    }
   ],
   "source": [
    "# plot 12 random test images\n",
    "shi.plot_12images(images_test, labels_test) "
   ]
  },
  {
   "cell_type": "markdown",
   "metadata": {},
   "source": [
    "### Labels formatting"
   ]
  },
  {
   "cell_type": "code",
   "execution_count": 6,
   "metadata": {},
   "outputs": [
    {
     "name": "stdout",
     "output_type": "stream",
     "text": [
      "labels_test_formatted shape: (2000, 2)\n",
      "labels_test:  [0. 1. 0. ... 1. 1. 0.]\n",
      "labels_test_formated:  [[1. 0.]\n",
      " [0. 1.]\n",
      " [1. 0.]\n",
      " ...\n",
      " [0. 1.]\n",
      " [0. 1.]\n",
      " [1. 0.]]\n"
     ]
    }
   ],
   "source": [
    "# convert class vectors to binary class matrices\n",
    "labels_test_formatted = np_utils.to_categorical(labels_test, num_classes=2)\n",
    "\n",
    "print('labels_test_formatted shape:', labels_test_formatted.shape)\n",
    "print('labels_test: ', labels_test)\n",
    "print('labels_test_formated: ', labels_test_formatted)"
   ]
  },
  {
   "cell_type": "markdown",
   "metadata": {},
   "source": [
    "## Model"
   ]
  },
  {
   "cell_type": "code",
   "execution_count": 7,
   "metadata": {},
   "outputs": [
    {
     "name": "stdout",
     "output_type": "stream",
     "text": [
      "Loaded model from disk: \n",
      "_________________________________________________________________\n",
      "Layer (type)                 Output Shape              Param #   \n",
      "=================================================================\n",
      "conv2d_layer1 (Conv2D)       (None, 62, 62, 64)        640       \n",
      "_________________________________________________________________\n",
      "conv2d_layer2 (Conv2D)       (None, 60, 60, 128)       73856     \n",
      "_________________________________________________________________\n",
      "maxpooling2d_layer1 (MaxPool (None, 30, 30, 128)       0         \n",
      "_________________________________________________________________\n",
      "dropout_layer1 (Dropout)     (None, 30, 30, 128)       0         \n",
      "_________________________________________________________________\n",
      "flatten_layer1 (Flatten)     (None, 115200)            0         \n",
      "_________________________________________________________________\n",
      "dense_layer1 (Dense)         (None, 256)               29491456  \n",
      "_________________________________________________________________\n",
      "dropout_layer2 (Dropout)     (None, 256)               0         \n",
      "_________________________________________________________________\n",
      "dense_layer2 (Dense)         (None, 2)                 514       \n",
      "=================================================================\n",
      "Total params: 29,566,466\n",
      "Trainable params: 29,566,466\n",
      "Non-trainable params: 0\n",
      "_________________________________________________________________\n",
      "None\n"
     ]
    }
   ],
   "source": [
    "# filename for model \n",
    "model_fname = os.path.join(original_data_path, 'Models','model.h5')\n",
    "\n",
    "# load the trained model\n",
    "model = load_model(model_fname) \n",
    "print(\"Loaded model from disk: \")\n",
    "\n",
    "# print summary\n",
    "print(model.summary())"
   ]
  },
  {
   "cell_type": "markdown",
   "metadata": {},
   "source": [
    "Evaluate on test images."
   ]
  },
  {
   "cell_type": "code",
   "execution_count": 8,
   "metadata": {},
   "outputs": [
    {
     "name": "stdout",
     "output_type": "stream",
     "text": [
      "Test loss: 0.10065763419866562\n",
      "Test accuracy: 97.65 %\n"
     ]
    }
   ],
   "source": [
    "score = model.evaluate(images_test, labels_test_formatted, verbose=0)\n",
    "print('Test loss:', score[0])\n",
    "print('Test accuracy:', score[1]*100, '%')"
   ]
  },
  {
   "cell_type": "code",
   "execution_count": 9,
   "metadata": {},
   "outputs": [
    {
     "data": {
      "image/png": "[encoded data removed]",
      "text/plain": [
       "<Figure size 576x432 with 10 Axes>"
      ]
     },
     "metadata": {},
     "output_type": "display_data"
    }
   ],
   "source": [
    "# pick up 10 random images and classify them using the trained model\n",
    "import matplotlib.cm as cm\n",
    "\n",
    "figsize = (8, 6)\n",
    "plt.figure(figsize=figsize)\n",
    "j=0\n",
    "nim = len(labels_test)\n",
    "\n",
    "for _ in range(10):\n",
    "    ind=int(np.random.randint(1,nim))\n",
    "    img=images_test[ind,:]\n",
    "    img=np.reshape(img,(64,64))\n",
    "    X = img[np.newaxis, :, :, np.newaxis].astype(np.float32)\n",
    "    label=labels_test[ind]\n",
    "       \n",
    "    predictions = model.predict(X);\n",
    "    pred = np.argmax(predictions) \n",
    "    \n",
    "    j = j+1\n",
    "    plt.subplot(2, 5, j)\n",
    "    plt.imshow(img*255,cmap=cm.gray, vmin=0, vmax=255)\n",
    "    plt.xticks([])\n",
    "    plt.yticks([])\n",
    "    plt.title('n=%d n̂=%d' % (label, pred))\n",
    "\n",
    "plt.show()\n"
   ]
  },
  {
   "cell_type": "markdown",
   "metadata": {},
   "source": [
    "Determine the indicies of the missclassified images and display some of them."
   ]
  },
  {
   "cell_type": "code",
   "execution_count": 10,
   "metadata": {},
   "outputs": [
    {
     "ename": "KeyboardInterrupt",
     "evalue": "",
     "output_type": "error",
     "traceback": [
      "\u001b[0;31m---------------------------------------------------------------------------\u001b[0m",
      "\u001b[0;31mKeyboardInterrupt\u001b[0m                         Traceback (most recent call last)",
      "\u001b[0;32m<ipython-input-10-2dbff3950b00>\u001b[0m in \u001b[0;36m<module>\u001b[0;34m\u001b[0m\n\u001b[0;32m----> 1\u001b[0;31m \u001b[0mpredictions\u001b[0m \u001b[0;34m=\u001b[0m \u001b[0mmodel\u001b[0m\u001b[0;34m.\u001b[0m\u001b[0mpredict\u001b[0m\u001b[0;34m(\u001b[0m\u001b[0mimages_test\u001b[0m\u001b[0;34m)\u001b[0m\u001b[0;34m\u001b[0m\u001b[0;34m\u001b[0m\u001b[0m\n\u001b[0m\u001b[1;32m      2\u001b[0m \u001b[0;31m#indices_wrong = [i for i,v in enumerate(predictions) if np.argmax(predictions[i])!=np.argmax(labels_test_formatted[i])]\u001b[0m\u001b[0;34m\u001b[0m\u001b[0;34m\u001b[0m\u001b[0;34m\u001b[0m\u001b[0m\n\u001b[1;32m      3\u001b[0m \u001b[0mindices_wrong\u001b[0m \u001b[0;34m=\u001b[0m \u001b[0;34m[\u001b[0m\u001b[0mi\u001b[0m \u001b[0;32mfor\u001b[0m \u001b[0mi\u001b[0m\u001b[0;34m,\u001b[0m\u001b[0mv\u001b[0m \u001b[0;32min\u001b[0m \u001b[0menumerate\u001b[0m\u001b[0;34m(\u001b[0m\u001b[0mpredictions\u001b[0m\u001b[0;34m)\u001b[0m \u001b[0;32mif\u001b[0m \u001b[0mnp\u001b[0m\u001b[0;34m.\u001b[0m\u001b[0margmax\u001b[0m\u001b[0;34m(\u001b[0m\u001b[0mpredictions\u001b[0m\u001b[0;34m[\u001b[0m\u001b[0mi\u001b[0m\u001b[0;34m]\u001b[0m\u001b[0;34m)\u001b[0m\u001b[0;34m!=\u001b[0m\u001b[0mlabels_test\u001b[0m\u001b[0;34m[\u001b[0m\u001b[0mi\u001b[0m\u001b[0;34m]\u001b[0m\u001b[0;34m]\u001b[0m\u001b[0;34m\u001b[0m\u001b[0;34m\u001b[0m\u001b[0m\n\u001b[1;32m      4\u001b[0m \u001b[0mprint\u001b[0m\u001b[0;34m(\u001b[0m\u001b[0;34m'Missclassified images: '\u001b[0m\u001b[0;34m,\u001b[0m \u001b[0mlen\u001b[0m\u001b[0;34m(\u001b[0m\u001b[0mindices_wrong\u001b[0m\u001b[0;34m)\u001b[0m\u001b[0;34m/\u001b[0m\u001b[0mlen\u001b[0m\u001b[0;34m(\u001b[0m\u001b[0mlabels_test\u001b[0m\u001b[0;34m)\u001b[0m\u001b[0;34m*\u001b[0m\u001b[0;36m100\u001b[0m\u001b[0;34m,\u001b[0m \u001b[0;34m'%'\u001b[0m\u001b[0;34m)\u001b[0m\u001b[0;34m\u001b[0m\u001b[0;34m\u001b[0m\u001b[0m\n\u001b[1;32m      5\u001b[0m \u001b[0mimages_test_wrong\u001b[0m \u001b[0;34m=\u001b[0m \u001b[0mimages_test\u001b[0m\u001b[0;34m[\u001b[0m\u001b[0mindices_wrong\u001b[0m\u001b[0;34m]\u001b[0m\u001b[0;34m\u001b[0m\u001b[0;34m\u001b[0m\u001b[0m\n",
      "\u001b[0;32m~/anaconda3/lib/python3.6/site-packages/keras/engine/training.py\u001b[0m in \u001b[0;36mpredict\u001b[0;34m(self, x, batch_size, verbose, steps)\u001b[0m\n\u001b[1;32m   1167\u001b[0m                                             \u001b[0mbatch_size\u001b[0m\u001b[0;34m=\u001b[0m\u001b[0mbatch_size\u001b[0m\u001b[0;34m,\u001b[0m\u001b[0;34m\u001b[0m\u001b[0;34m\u001b[0m\u001b[0m\n\u001b[1;32m   1168\u001b[0m                                             \u001b[0mverbose\u001b[0m\u001b[0;34m=\u001b[0m\u001b[0mverbose\u001b[0m\u001b[0;34m,\u001b[0m\u001b[0;34m\u001b[0m\u001b[0;34m\u001b[0m\u001b[0m\n\u001b[0;32m-> 1169\u001b[0;31m                                             steps=steps)\n\u001b[0m\u001b[1;32m   1170\u001b[0m \u001b[0;34m\u001b[0m\u001b[0m\n\u001b[1;32m   1171\u001b[0m     def train_on_batch(self, x, y,\n",
      "\u001b[0;32m~/anaconda3/lib/python3.6/site-packages/keras/engine/training_arrays.py\u001b[0m in \u001b[0;36mpredict_loop\u001b[0;34m(model, f, ins, batch_size, verbose, steps)\u001b[0m\n\u001b[1;32m    292\u001b[0m                 \u001b[0mins_batch\u001b[0m\u001b[0;34m[\u001b[0m\u001b[0mi\u001b[0m\u001b[0;34m]\u001b[0m \u001b[0;34m=\u001b[0m \u001b[0mins_batch\u001b[0m\u001b[0;34m[\u001b[0m\u001b[0mi\u001b[0m\u001b[0;34m]\u001b[0m\u001b[0;34m.\u001b[0m\u001b[0mtoarray\u001b[0m\u001b[0;34m(\u001b[0m\u001b[0;34m)\u001b[0m\u001b[0;34m\u001b[0m\u001b[0;34m\u001b[0m\u001b[0m\n\u001b[1;32m    293\u001b[0m \u001b[0;34m\u001b[0m\u001b[0m\n\u001b[0;32m--> 294\u001b[0;31m             \u001b[0mbatch_outs\u001b[0m \u001b[0;34m=\u001b[0m \u001b[0mf\u001b[0m\u001b[0;34m(\u001b[0m\u001b[0mins_batch\u001b[0m\u001b[0;34m)\u001b[0m\u001b[0;34m\u001b[0m\u001b[0;34m\u001b[0m\u001b[0m\n\u001b[0m\u001b[1;32m    295\u001b[0m             \u001b[0mbatch_outs\u001b[0m \u001b[0;34m=\u001b[0m \u001b[0mto_list\u001b[0m\u001b[0;34m(\u001b[0m\u001b[0mbatch_outs\u001b[0m\u001b[0;34m)\u001b[0m\u001b[0;34m\u001b[0m\u001b[0;34m\u001b[0m\u001b[0m\n\u001b[1;32m    296\u001b[0m             \u001b[0;32mif\u001b[0m \u001b[0mbatch_index\u001b[0m \u001b[0;34m==\u001b[0m \u001b[0;36m0\u001b[0m\u001b[0;34m:\u001b[0m\u001b[0;34m\u001b[0m\u001b[0;34m\u001b[0m\u001b[0m\n",
      "\u001b[0;32m~/anaconda3/lib/python3.6/site-packages/keras/backend/tensorflow_backend.py\u001b[0m in \u001b[0;36m__call__\u001b[0;34m(self, inputs)\u001b[0m\n\u001b[1;32m   2713\u001b[0m                 \u001b[0;32mreturn\u001b[0m \u001b[0mself\u001b[0m\u001b[0;34m.\u001b[0m\u001b[0m_legacy_call\u001b[0m\u001b[0;34m(\u001b[0m\u001b[0minputs\u001b[0m\u001b[0;34m)\u001b[0m\u001b[0;34m\u001b[0m\u001b[0;34m\u001b[0m\u001b[0m\n\u001b[1;32m   2714\u001b[0m \u001b[0;34m\u001b[0m\u001b[0m\n\u001b[0;32m-> 2715\u001b[0;31m             \u001b[0;32mreturn\u001b[0m \u001b[0mself\u001b[0m\u001b[0;34m.\u001b[0m\u001b[0m_call\u001b[0m\u001b[0;34m(\u001b[0m\u001b[0minputs\u001b[0m\u001b[0;34m)\u001b[0m\u001b[0;34m\u001b[0m\u001b[0;34m\u001b[0m\u001b[0m\n\u001b[0m\u001b[1;32m   2716\u001b[0m         \u001b[0;32melse\u001b[0m\u001b[0;34m:\u001b[0m\u001b[0;34m\u001b[0m\u001b[0;34m\u001b[0m\u001b[0m\n\u001b[1;32m   2717\u001b[0m             \u001b[0;32mif\u001b[0m \u001b[0mpy_any\u001b[0m\u001b[0;34m(\u001b[0m\u001b[0mis_tensor\u001b[0m\u001b[0;34m(\u001b[0m\u001b[0mx\u001b[0m\u001b[0;34m)\u001b[0m \u001b[0;32mfor\u001b[0m \u001b[0mx\u001b[0m \u001b[0;32min\u001b[0m \u001b[0minputs\u001b[0m\u001b[0;34m)\u001b[0m\u001b[0;34m:\u001b[0m\u001b[0;34m\u001b[0m\u001b[0;34m\u001b[0m\u001b[0m\n",
      "\u001b[0;32m~/anaconda3/lib/python3.6/site-packages/keras/backend/tensorflow_backend.py\u001b[0m in \u001b[0;36m_call\u001b[0;34m(self, inputs)\u001b[0m\n\u001b[1;32m   2673\u001b[0m             \u001b[0mfetched\u001b[0m \u001b[0;34m=\u001b[0m \u001b[0mself\u001b[0m\u001b[0;34m.\u001b[0m\u001b[0m_callable_fn\u001b[0m\u001b[0;34m(\u001b[0m\u001b[0;34m*\u001b[0m\u001b[0marray_vals\u001b[0m\u001b[0;34m,\u001b[0m \u001b[0mrun_metadata\u001b[0m\u001b[0;34m=\u001b[0m\u001b[0mself\u001b[0m\u001b[0;34m.\u001b[0m\u001b[0mrun_metadata\u001b[0m\u001b[0;34m)\u001b[0m\u001b[0;34m\u001b[0m\u001b[0;34m\u001b[0m\u001b[0m\n\u001b[1;32m   2674\u001b[0m         \u001b[0;32melse\u001b[0m\u001b[0;34m:\u001b[0m\u001b[0;34m\u001b[0m\u001b[0;34m\u001b[0m\u001b[0m\n\u001b[0;32m-> 2675\u001b[0;31m             \u001b[0mfetched\u001b[0m \u001b[0;34m=\u001b[0m \u001b[0mself\u001b[0m\u001b[0;34m.\u001b[0m\u001b[0m_callable_fn\u001b[0m\u001b[0;34m(\u001b[0m\u001b[0;34m*\u001b[0m\u001b[0marray_vals\u001b[0m\u001b[0;34m)\u001b[0m\u001b[0;34m\u001b[0m\u001b[0;34m\u001b[0m\u001b[0m\n\u001b[0m\u001b[1;32m   2676\u001b[0m         \u001b[0;32mreturn\u001b[0m \u001b[0mfetched\u001b[0m\u001b[0;34m[\u001b[0m\u001b[0;34m:\u001b[0m\u001b[0mlen\u001b[0m\u001b[0;34m(\u001b[0m\u001b[0mself\u001b[0m\u001b[0;34m.\u001b[0m\u001b[0moutputs\u001b[0m\u001b[0;34m)\u001b[0m\u001b[0;34m]\u001b[0m\u001b[0;34m\u001b[0m\u001b[0;34m\u001b[0m\u001b[0m\n\u001b[1;32m   2677\u001b[0m \u001b[0;34m\u001b[0m\u001b[0m\n",
      "\u001b[0;32m~/anaconda3/lib/python3.6/site-packages/tensorflow/python/client/session.py\u001b[0m in \u001b[0;36m__call__\u001b[0;34m(self, *args, **kwargs)\u001b[0m\n\u001b[1;32m   1437\u001b[0m           ret = tf_session.TF_SessionRunCallable(\n\u001b[1;32m   1438\u001b[0m               \u001b[0mself\u001b[0m\u001b[0;34m.\u001b[0m\u001b[0m_session\u001b[0m\u001b[0;34m.\u001b[0m\u001b[0m_session\u001b[0m\u001b[0;34m,\u001b[0m \u001b[0mself\u001b[0m\u001b[0;34m.\u001b[0m\u001b[0m_handle\u001b[0m\u001b[0;34m,\u001b[0m \u001b[0margs\u001b[0m\u001b[0;34m,\u001b[0m \u001b[0mstatus\u001b[0m\u001b[0;34m,\u001b[0m\u001b[0;34m\u001b[0m\u001b[0;34m\u001b[0m\u001b[0m\n\u001b[0;32m-> 1439\u001b[0;31m               run_metadata_ptr)\n\u001b[0m\u001b[1;32m   1440\u001b[0m         \u001b[0;32mif\u001b[0m \u001b[0mrun_metadata\u001b[0m\u001b[0;34m:\u001b[0m\u001b[0;34m\u001b[0m\u001b[0;34m\u001b[0m\u001b[0m\n\u001b[1;32m   1441\u001b[0m           \u001b[0mproto_data\u001b[0m \u001b[0;34m=\u001b[0m \u001b[0mtf_session\u001b[0m\u001b[0;34m.\u001b[0m\u001b[0mTF_GetBuffer\u001b[0m\u001b[0;34m(\u001b[0m\u001b[0mrun_metadata_ptr\u001b[0m\u001b[0;34m)\u001b[0m\u001b[0;34m\u001b[0m\u001b[0;34m\u001b[0m\u001b[0m\n",
      "\u001b[0;31mKeyboardInterrupt\u001b[0m: "
     ]
    }
   ],
   "source": [
    "predictions = model.predict(images_test)\n",
    "#indices_wrong = [i for i,v in enumerate(predictions) if np.argmax(predictions[i])!=np.argmax(labels_test_formatted[i])]\n",
    "indices_wrong = [i for i,v in enumerate(predictions) if np.argmax(predictions[i])!=labels_test[i]]\n",
    "print('Missclassified images: ', len(indices_wrong)/len(labels_test)*100, '%')\n",
    "images_test_wrong = images_test[indices_wrong]\n",
    "labels_test_wrong = labels_test[indices_wrong]\n",
    "print('Number of missclassified images: ', len(indices_wrong))\n",
    "predictions_wrong = predictions[indices_wrong]"
   ]
  },
  {
   "cell_type": "code",
   "execution_count": null,
   "metadata": {},
   "outputs": [],
   "source": [
    "# display the first 10 missclassified images \n",
    "figsize = (8, 6)\n",
    "plt.figure(figsize=figsize)\n",
    "for ind in range(10):\n",
    "\n",
    "    img = images_test_wrong[ind].reshape(img_rows, img_cols)\n",
    "    lab = labels_test_wrong[ind]\n",
    "    pred = np.argmax(predictions_wrong[ind])\n",
    "    \n",
    "    plt.subplot(2, 5, ind+1)\n",
    "    plt.imshow(img*255,cmap=cm.gray, vmin=0, vmax=255)\n",
    "    plt.xticks([])\n",
    "    plt.yticks([]) \n",
    "    plt.title('n=%d n̂=%d' % (lab, pred))\n",
    "\n",
    "plt.show()"
   ]
  },
  {
   "cell_type": "markdown",
   "metadata": {},
   "source": [
    "Determine the indicies of the correctly classified images and display some of them."
   ]
  },
  {
   "cell_type": "code",
   "execution_count": null,
   "metadata": {},
   "outputs": [],
   "source": [
    "indices_correct = [i for i,v in enumerate(predictions) if np.argmax(predictions[i])==(labels_test[i])]\n",
    "print('Correctly classified images: ', len(indices_correct)/len(labels_test)*100, '%')\n",
    "images_test_correct = images_test[indices_correct]\n",
    "labels_test_correct = labels_test[indices_correct]\n",
    "print('Number of correctly classified images: ', len(indices_correct))\n",
    "predictions_correct = predictions[indices_correct]"
   ]
  },
  {
   "cell_type": "code",
   "execution_count": null,
   "metadata": {},
   "outputs": [],
   "source": [
    "# display the first 10 correctly classified images \n",
    "figsize = (8, 6)\n",
    "plt.figure(figsize=figsize)\n",
    "for ind in range(10):\n",
    "      \n",
    "    img = images_test_correct[ind].reshape(img_rows, img_cols)\n",
    "    lab = labels_test_correct[ind]\n",
    "    pred = np.argmax(predictions_correct[ind])\n",
    "    \n",
    "    plt.subplot(2, 5, ind+1)\n",
    "    plt.imshow(img*255,cmap=cm.gray, vmin=0, vmax=255)\n",
    "    plt.xticks([])\n",
    "    plt.yticks([]) \n",
    "    plt.title('n=%d n̂=%d' % (lab, pred))\n",
    "\n",
    "plt.show()"
   ]
  },
  {
   "cell_type": "markdown",
   "metadata": {},
   "source": [
    "### Create subsets of images of interest"
   ]
  },
  {
   "cell_type": "markdown",
   "metadata": {},
   "source": [
    "Split the correctly classified and missclassified images into squares and triangles and sort them on contrast and size. "
   ]
  },
  {
   "cell_type": "code",
   "execution_count": null,
   "metadata": {},
   "outputs": [],
   "source": [
    "# Split the correct images in squares and triangles\n",
    "\n",
    "# squares\n",
    "label = 0\n",
    "\n",
    "squares_correct = shi.select_shape(images_test_correct, labels_test_correct, label)\n",
    "print('There are ',np.shape(squares_correct)[0] , ' square shapes in the test set wich have been classified correctly.')\n",
    "\n",
    "shi.plot_12images(squares_correct)\n",
    "\n",
    "# triangles\n",
    "label = 1\n",
    "\n",
    "triangles_correct = shi.select_shape(images_test_correct, labels_test_correct, label)\n",
    "print('There are ',np.shape(triangles_correct)[0] , ' triangle shapes in the test set wich have been classified correctly.')\n",
    "\n",
    "shi.plot_12images(triangles_correct)"
   ]
  },
  {
   "cell_type": "code",
   "execution_count": null,
   "metadata": {},
   "outputs": [],
   "source": [
    "# Split the missclassified images in squares and triangles\n",
    "\n",
    "# squares\n",
    "label = 0\n",
    "\n",
    "squares_wrong = shi.select_shape(images_test_wrong, labels_test_wrong, label)\n",
    "print('There are ',np.shape(squares_wrong)[0] , ' square shapes in the test set wich have been missclassified.')\n",
    "\n",
    "# display the first 6 missclassified images \n",
    "figsize = (8, 6)\n",
    "plt.figure(figsize=figsize)\n",
    "for ind in range(41):\n",
    "      \n",
    "    img = squares_wrong[ind].reshape(img_rows, img_cols)\n",
    "    \n",
    "    plt.subplot(7, 8, ind+1)\n",
    "    plt.imshow(img*255,cmap=cm.gray, vmin=0, vmax=255)\n",
    "    plt.xticks([])\n",
    "    plt.yticks([]) \n",
    "\n",
    "plt.show()\n",
    "\n",
    "# triangles\n",
    "label = 1\n",
    "\n",
    "triangles_wrong = shi.select_shape(images_test_wrong, labels_test_wrong, label)\n",
    "print('There are ',np.shape(triangles_wrong)[0] , ' triangle shapes in the test set wich have been missclassified.')\n",
    "\n",
    "# display the  missclassified images \n",
    "figsize = (8, 6)\n",
    "plt.figure(figsize=figsize)\n",
    "for ind in range(6):\n",
    "      \n",
    "    img = triangles_wrong[ind].reshape(img_rows, img_cols)\n",
    "    \n",
    "    plt.subplot(7, 8, ind+1)\n",
    "    plt.imshow(img*255,cmap=cm.gray, vmin=0, vmax=255)\n",
    "    plt.xticks([])\n",
    "    plt.yticks([]) \n",
    "\n",
    "plt.show()"
   ]
  },
  {
   "cell_type": "markdown",
   "metadata": {},
   "source": [
    "## Analysis"
   ]
  },
  {
   "cell_type": "markdown",
   "metadata": {},
   "source": [
    "Define a list of top analysis methods by preparing tuples containing the methods' string identifiers used by innvestigate.analyzer.create_analyzer(...), some optional parameters, a post processing choice for visualizing the computed analysis and a title for the figure to render."
   ]
  },
  {
   "cell_type": "code",
   "execution_count": null,
   "metadata": {},
   "outputs": [],
   "source": [
    "# parameters\n",
    "input_range = [0, 1]\n",
    "preprocess, revert_preprocessing = mnistutils.create_preprocessing_f(images_test, input_range)\n",
    "def input_postprocessing(X):\n",
    "    #return revert_preprocessing(X) / 255\n",
    "    #return 1-X\n",
    "    return X\n",
    "\n",
    "\n",
    "noise_scale = (input_range[1]-input_range[0]) * 0.1\n",
    "ri = input_range[0]  # reference input\n",
    "\n",
    "# Configure analysis methods and properties\n",
    "methods = [\n",
    "    # NAME            OPT.PARAMS                POSTPROC FXN               TITLE\n",
    "\n",
    "    # Show input\n",
    "    (\"input\",         {},                       input_postprocessing,      \"Input\"),\n",
    "\n",
    "\n",
    "    # Interaction\n",
    "    (\"pattern.attribution\",  {\"pattern_type\": \"relu\"}, mnistutils.heatmap,        \"PatternAttribution\"),\n",
    "       \n",
    "    (\"deep_taylor.bounded\",   {\"low\": input_range[0],\"high\": input_range[1]}, mnistutils.heatmap,        \"DeepTaylor\"),\n",
    "    \n",
    "    (\"lrp.epsilon\",           {\"epsilon\": 1},           mnistutils.heatmap,        \"LRP-Epsilon\"),\n",
    "\n",
    "]\n",
    "    \n",
    "print('Considered number of explainability methods:', len(methods)-1)"
   ]
  },
  {
   "cell_type": "markdown",
   "metadata": {},
   "source": [
    "The main loop instantiates the analyzer objects based on the loaded/trained model and the analyzers' parameterizations above."
   ]
  },
  {
   "cell_type": "code",
   "execution_count": null,
   "metadata": {},
   "outputs": [],
   "source": [
    "# Create model without trailing softmax\n",
    "model_wo_softmax = iutils.keras.graph.model_wo_softmax(model)\n",
    "\n",
    "path_to_analyzers = \"/home/elena/eStep/XAI/Data/TrianglesAndSquaresRotationScale/Analyzers/\"  \n",
    "\n",
    "\n",
    "# Create analyzers.\n",
    "analyzers = []\n",
    "for method in methods:\n",
    "    fname = os.path.join(path_to_analyzers, method[0]+'.npz')\n",
    "    \n",
    "    analyzer = innvestigate.create_analyzer(method[0],        # analysis method identifier\n",
    "                                            model_wo_softmax, # model without softmax output\n",
    "                                            neuron_selection_mode=\"index\",\n",
    "                                            **method[1])     \n",
    "    \n",
    "    if os.path.isfile(fname) :\n",
    "        print(\"Analyzer\", method[0], \"exists! Loading...\")\n",
    "        analyzer = analyzer.load_npz(fname)\n",
    "\n",
    "    \n",
    "    analyzers.append(analyzer)\n"
   ]
  },
  {
   "cell_type": "code",
   "execution_count": null,
   "metadata": {},
   "outputs": [],
   "source": [
    "# analysis code\n",
    "def analysis():\n",
    "    for image_nr, (x, y) in enumerate(test_images):\n",
    "        y = int(y)\n",
    "        # Add batch axis.\n",
    "        x = x[None, :, :, :]\n",
    "\n",
    "        analysis = np.zeros([num_classes, len(analyzers), 64, 64, 3])\n",
    "        text = []\n",
    "\n",
    "        for ii, output_neuron in enumerate([0, 1]):\n",
    "            # Predict final activations, probabilites, and label.\n",
    "            presm = model_wo_softmax.predict_on_batch(x)[0]\n",
    "            prob = model.predict_on_batch(x)[0]\n",
    "            y_hat = prob.argmax()\n",
    "\n",
    "            # Save prediction info:\n",
    "            text.append((\"%s\" % label_to_class_name[y],    # ground truth label\n",
    "                         \"%.2f\" % presm[output_neuron],    # pre-softmax logits\n",
    "                         \"%.2f\" % prob[output_neuron],     # probabilistic softmax output  \n",
    "                         \"%s\" % label_to_class_name[output_neuron]\n",
    "                        ))\n",
    "\n",
    "\n",
    "            for aidx, analyzer in enumerate(analyzers):\n",
    "                # Analyze.\n",
    "                a = analyzer.analyze(x, neuron_selection=output_neuron)\n",
    "\n",
    "                # Apply common postprocessing, e.g., re-ordering the channels for plotting.\n",
    "                a = mnistutils.postprocess(a)\n",
    "                # Apply analysis postprocessing, e.g., creating a heatmap.\n",
    "                a = methods[aidx][2](a)\n",
    "                # Store the analysis.\n",
    "                analysis[ii, aidx] = a[0]\n",
    "\n",
    "        print(\"-\"*80)\n",
    "        print(\"Image nr. {}; prediction: {} \".format(image_nr, y_hat))\n",
    "        # Prepare the grid as rectengular list\n",
    "        grid = [[analysis[i, j] for j in range(analysis.shape[1])]\n",
    "                for i in range(analysis.shape[0])]\n",
    "        # Prepare the labels\n",
    "        label, presm, prob, pred = zip(*text)\n",
    "        print(label)\n",
    "        row_labels_left = [('label: {}'.format(label[i]), 'neuron: {}'.format(pred[i])) for i in range(len(label))]\n",
    "       # row_labels_right = []\n",
    "        row_labels_right = [('logit: {}'.format(presm[i]), 'prob: {}'.format(prob[i])) for i in range(len(label))]\n",
    "        col_labels = [''.join(method[3]) for method in methods]\n",
    "\n",
    "        # Plot the analysis.\n",
    "        file_name = os.environ.get(\"PLOTFILENAME\", None)\n",
    "       # print(file_name)\n",
    "        if file_name is not None:\n",
    "            file_name = \".\".join(file_name.split(\".\")[:-1])+(\"_%i\" % output_neuron)+file_name.split(\".\")[-1]   \n",
    "        n_rows = len(grid)\n",
    "        n_cols = len(grid[0])\n",
    "        figsize = (2*n_cols, 2*(n_rows+1))\n",
    "        eutils.plot_image_grid(grid, row_labels_left, row_labels_right, col_labels, figsize=figsize, file_name=file_name)"
   ]
  },
  {
   "cell_type": "markdown",
   "metadata": {},
   "source": [
    "### Analyze correctly classified squares."
   ]
  },
  {
   "cell_type": "markdown",
   "metadata": {},
   "source": [
    "Sort the corectly classified squares on contrast."
   ]
  },
  {
   "cell_type": "code",
   "execution_count": null,
   "metadata": {},
   "outputs": [],
   "source": [
    "# call sorting function\n",
    "contr_sorted_squares_correct, _, _ = shi.sort_contrast(squares_correct)\n",
    "# plot 12 images after sorting\n",
    "shi.plot_12seqimages(contr_sorted_squares_correct)\n",
    "print('---------------------------------------------')\n",
    "shi.plot_12seqimages(contr_sorted_squares_correct,None, 250)\n",
    "print('---------------------------------------------')\n",
    "shi.plot_12seqimages(contr_sorted_squares_correct,None, 500)"
   ]
  },
  {
   "cell_type": "code",
   "execution_count": null,
   "metadata": {},
   "outputs": [],
   "source": [
    "nim = np.shape(squares_correct)[0]\n",
    "ntim = 5\n",
    "indices1 = range(0,ntim)\n",
    "indices2 = range(250,250+ntim)\n",
    "indices3 = range(500,500+ntim)\n",
    "indices4 = range(750,750+ntim)\n",
    "indices5 = range(900,900+ntim)\n",
    "\n",
    "indices = np.concatenate([indices1, indices2, indices3, indices4, indices5])\n",
    "num_classes = 2\n",
    "labels = np.zeros(nim)\n",
    "\n",
    "test_images = list(zip(contr_sorted_squares_correct[indices], labels))\n",
    "\n",
    "label_to_class_name = [str(i) for i in range(num_classes)]\n",
    "\n",
    "analysis()"
   ]
  },
  {
   "cell_type": "markdown",
   "metadata": {},
   "source": [
    "Sort the corectly classified squares on size."
   ]
  },
  {
   "cell_type": "code",
   "execution_count": null,
   "metadata": {},
   "outputs": [],
   "source": [
    "# call sorting function\n",
    "size_sorted_squares_correct, _, _ = shi.sort_size(squares_correct)\n",
    "# plot 12 images after sorting\n",
    "shi.plot_12seqimages(size_sorted_squares_correct)\n",
    "print('---------------------------------------------')\n",
    "shi.plot_12seqimages(size_sorted_squares_correct,None, 250)\n",
    "print('---------------------------------------------')\n",
    "shi.plot_12seqimages(size_sorted_squares_correct,None, 500)"
   ]
  },
  {
   "cell_type": "code",
   "execution_count": null,
   "metadata": {},
   "outputs": [],
   "source": [
    "nim = np.shape(squares_correct)[0]\n",
    "ntim = 5\n",
    "indices1 = range(0,ntim)\n",
    "indices2 = range(250,250+ntim)\n",
    "indices3 = range(500,500+ntim)\n",
    "indices4 = range(750,750+ntim)\n",
    "indices5 = range(900,900+ntim)\n",
    "\n",
    "indices = np.concatenate([indices1, indices2, indices3, indices4, indices5])\n",
    "num_classes = 2\n",
    "labels = np.zeros(nim)\n",
    "\n",
    "test_images = list(zip(size_sorted_squares_correct[indices], labels))\n",
    "\n",
    "label_to_class_name = [str(i) for i in range(num_classes)]\n",
    "\n",
    "analysis()"
   ]
  },
  {
   "cell_type": "markdown",
   "metadata": {},
   "source": [
    "### Analyze correctly classified triangles."
   ]
  },
  {
   "cell_type": "markdown",
   "metadata": {},
   "source": [
    "Sort the corectly classified triangles on contrast."
   ]
  },
  {
   "cell_type": "code",
   "execution_count": null,
   "metadata": {},
   "outputs": [],
   "source": [
    "# call sorting function\n",
    "contr_sorted_triangles_correct, _, _ = shi.sort_contrast(triangles_correct)\n",
    "# plot 12 images after sorting\n",
    "shi.plot_12seqimages(contr_sorted_triangles_correct)\n",
    "print('---------------------------------------------')\n",
    "shi.plot_12seqimages(contr_sorted_triangles_correct,None, 250)\n",
    "print('---------------------------------------------')\n",
    "shi.plot_12seqimages(contr_sorted_triangles_correct,None, 500)"
   ]
  },
  {
   "cell_type": "code",
   "execution_count": null,
   "metadata": {},
   "outputs": [],
   "source": [
    "nim = np.shape(triangles_correct)[0]\n",
    "ntim = 5\n",
    "indices1 = range(0,ntim)\n",
    "indices2 = range(250,250+ntim)\n",
    "indices3 = range(500,500+ntim)\n",
    "indices4 = range(750,750+ntim)\n",
    "indices5 = range(900,900+ntim)\n",
    "\n",
    "indices = np.concatenate([indices1, indices2, indices3, indices4, indices5])\n",
    "num_classes = 2\n",
    "labels = np.ones(nim)\n",
    "\n",
    "test_images = list(zip(contr_sorted_triangles_correct[indices], labels))\n",
    "\n",
    "label_to_class_name = [str(i) for i in range(num_classes)]\n",
    "\n",
    "analysis()"
   ]
  },
  {
   "cell_type": "markdown",
   "metadata": {},
   "source": [
    "Sort the corectly classified triangles on size."
   ]
  },
  {
   "cell_type": "code",
   "execution_count": null,
   "metadata": {},
   "outputs": [],
   "source": [
    "# call sorting function\n",
    "size_sorted_triangles_correct, _, _ = shi.sort_size(triangles_correct)\n",
    "# plot 12 images after sorting\n",
    "shi.plot_12seqimages(size_sorted_triangles_correct)\n",
    "print('---------------------------------------------')\n",
    "shi.plot_12seqimages(size_sorted_triangles_correct,None, 250)\n",
    "print('---------------------------------------------')\n",
    "shi.plot_12seqimages(size_sorted_triangles_correct,None, 500)"
   ]
  },
  {
   "cell_type": "code",
   "execution_count": null,
   "metadata": {},
   "outputs": [],
   "source": [
    "nim = np.shape(triangles_correct)[0]\n",
    "ntim = 5\n",
    "indices1 = range(0,ntim)\n",
    "indices2 = range(250,250+ntim)\n",
    "indices3 = range(500,500+ntim)\n",
    "indices4 = range(750,750+ntim)\n",
    "indices5 = range(900,900+ntim)\n",
    "\n",
    "indices = np.concatenate([indices1, indices2, indices3, indices4, indices5])\n",
    "num_classes = 2\n",
    "labels = np.ones(nim)\n",
    "\n",
    "test_images = list(zip(size_sorted_triangles_correct[indices], labels))\n",
    "\n",
    "label_to_class_name = [str(i) for i in range(num_classes)]\n",
    "\n",
    "analysis()"
   ]
  },
  {
   "cell_type": "markdown",
   "metadata": {},
   "source": [
    "### Analyze missclassified squares."
   ]
  },
  {
   "cell_type": "markdown",
   "metadata": {},
   "source": [
    "Sort the wrongly classified squares on contrast."
   ]
  },
  {
   "cell_type": "code",
   "execution_count": null,
   "metadata": {},
   "outputs": [],
   "source": [
    "# call sorting function\n",
    "contr_sorted_squares_wrong, _, _ = shi.sort_contrast(squares_wrong)\n",
    "# plot 12 images after sorting\n",
    "shi.plot_12seqimages(contr_sorted_squares_wrong)\n",
    "print('---------------------------------------------')\n",
    "shi.plot_12seqimages(contr_sorted_squares_wrong,None, 25)"
   ]
  },
  {
   "cell_type": "code",
   "execution_count": null,
   "metadata": {},
   "outputs": [],
   "source": [
    "nim = np.shape(squares_wrong)[0]\n",
    "\n",
    "indices = range(0,nim)\n",
    "\n",
    "num_classes = 2\n",
    "labels = np.zeros(nim) # triangles missclssifed as squares\n",
    "\n",
    "test_images = list(zip(contr_sorted_squares_wrong[indices], labels))\n",
    "\n",
    "label_to_class_name = [str(i) for i in range(num_classes)]\n",
    "\n",
    "analysis()"
   ]
  },
  {
   "cell_type": "markdown",
   "metadata": {},
   "source": [
    "Sort the wrongly classified squares on size."
   ]
  },
  {
   "cell_type": "code",
   "execution_count": null,
   "metadata": {},
   "outputs": [],
   "source": [
    "# call sorting function\n",
    "size_sorted_squares_wrong, _, _ = shi.sort_size(squares_wrong)\n",
    "# plot 12 images after sorting\n",
    "shi.plot_12seqimages(size_sorted_squares_wrong)\n",
    "print('---------------------------------------------')\n",
    "shi.plot_12seqimages(size_sorted_squares_wrong,None, 25)"
   ]
  },
  {
   "cell_type": "code",
   "execution_count": null,
   "metadata": {},
   "outputs": [],
   "source": [
    "nim = np.shape(squares_wrong)[0]\n",
    "\n",
    "indices = range(0,nim)\n",
    "\n",
    "num_classes = 2\n",
    "labels = np.zeros(nim) # triangles missclssifed as squares\n",
    "\n",
    "test_images = list(zip(size_sorted_squares_wrong[indices], labels))\n",
    "\n",
    "label_to_class_name = [str(i) for i in range(num_classes)]\n",
    "\n",
    "analysis()"
   ]
  },
  {
   "cell_type": "markdown",
   "metadata": {},
   "source": [
    "### Analyze missclassified triangles."
   ]
  },
  {
   "cell_type": "markdown",
   "metadata": {},
   "source": [
    "Sort the wrongly classified triangles on contrast."
   ]
  },
  {
   "cell_type": "code",
   "execution_count": null,
   "metadata": {},
   "outputs": [],
   "source": [
    "# call sorting function\n",
    "contr_sorted_triangles_wrong, _, _ = shi.sort_contrast(triangles_wrong)"
   ]
  },
  {
   "cell_type": "code",
   "execution_count": null,
   "metadata": {},
   "outputs": [],
   "source": [
    "nim = np.shape(triangles_wrong)[0]\n",
    "\n",
    "indices = range(0,nim)\n",
    "\n",
    "num_classes = 2\n",
    "labels = np.ones(nim) # squares missclssifed as triangles\n",
    "\n",
    "test_images = list(zip(contr_sorted_triangles_wrong[indices], labels))\n",
    "\n",
    "label_to_class_name = [str(i) for i in range(num_classes)]\n",
    "\n",
    "analysis()"
   ]
  },
  {
   "cell_type": "markdown",
   "metadata": {},
   "source": [
    "Sort the wrongly classified triangles on size."
   ]
  },
  {
   "cell_type": "code",
   "execution_count": null,
   "metadata": {},
   "outputs": [],
   "source": [
    "# call sorting function\n",
    "size_sorted_triangles_wrong, _, _ = shi.sort_size(triangles_wrong)"
   ]
  },
  {
   "cell_type": "code",
   "execution_count": null,
   "metadata": {},
   "outputs": [],
   "source": [
    "nim = np.shape(triangles_wrong)[0]\n",
    "\n",
    "indices = range(0,nim)\n",
    "\n",
    "num_classes = 2\n",
    "labels = np.ones(nim) # squares missclssifed as triangles\n",
    "\n",
    "test_images = list(zip(size_sorted_triangles_wrong[indices], labels))\n",
    "\n",
    "label_to_class_name = [str(i) for i in range(num_classes)]\n",
    "\n",
    "analysis()"
   ]
  }
 ],
 "metadata": {
  "kernelspec": {
   "display_name": "Python 3",
   "language": "python",
   "name": "python3"
  },
  "language_info": {
   "codemirror_mode": {
    "name": "ipython",
    "version": 3
   },
   "file_extension": ".py",
   "mimetype": "text/x-python",
   "name": "python",
   "nbconvert_exporter": "python",
   "pygments_lexer": "ipython3",
   "version": "3.6.7"
  }
 },
 "nbformat": 4,
 "nbformat_minor": 2
}
