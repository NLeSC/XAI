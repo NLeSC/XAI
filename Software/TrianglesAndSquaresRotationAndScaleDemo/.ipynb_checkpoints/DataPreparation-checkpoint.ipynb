{
 "cells": [
  {
   "cell_type": "markdown",
   "metadata": {},
   "source": [
    "# Data preparation"
   ]
  },
  {
   "cell_type": "code",
   "execution_count": 1,
   "metadata": {},
   "outputs": [
    {
     "ename": "ImportError",
     "evalue": "cannot import name 'split_data'",
     "output_type": "error",
     "traceback": [
      "\u001b[0;31m---------------------------------------------------------------------------\u001b[0m",
      "\u001b[0;31mImportError\u001b[0m                               Traceback (most recent call last)",
      "\u001b[0;32m<ipython-input-1-d9e81c3384ac>\u001b[0m in \u001b[0;36m<module>\u001b[0;34m\u001b[0m\n\u001b[1;32m      3\u001b[0m \u001b[0;32mimport\u001b[0m \u001b[0mos\u001b[0m\u001b[0;34m\u001b[0m\u001b[0;34m\u001b[0m\u001b[0m\n\u001b[1;32m      4\u001b[0m \u001b[0;32mfrom\u001b[0m \u001b[0mcode\u001b[0m \u001b[0;32mimport\u001b[0m \u001b[0mshape_images\u001b[0m \u001b[0;32mas\u001b[0m \u001b[0mshi\u001b[0m\u001b[0;34m\u001b[0m\u001b[0;34m\u001b[0m\u001b[0m\n\u001b[0;32m----> 5\u001b[0;31m \u001b[0;32mfrom\u001b[0m \u001b[0mcode\u001b[0m \u001b[0;32mimport\u001b[0m \u001b[0msplit_data\u001b[0m \u001b[0;32mas\u001b[0m \u001b[0msplt\u001b[0m\u001b[0;34m\u001b[0m\u001b[0;34m\u001b[0m\u001b[0m\n\u001b[0m",
      "\u001b[0;31mImportError\u001b[0m: cannot import name 'split_data'"
     ]
    }
   ],
   "source": [
    "# imports\n",
    "import numpy as np\n",
    "import os\n",
    "from code import shape_images as shi"
   ]
  },
  {
   "cell_type": "code",
   "execution_count": null,
   "metadata": {},
   "outputs": [],
   "source": [
    "# constants\n",
    "num_images = 20000\n",
    "im_dim = 64"
   ]
  },
  {
   "cell_type": "markdown",
   "metadata": {},
   "source": [
    "### Load the original MATLAB data and display"
   ]
  },
  {
   "cell_type": "code",
   "execution_count": null,
   "metadata": {},
   "outputs": [],
   "source": [
    "# data paths\n",
    "original_data_path = \"/home/elena/eStep/XAI/Data/TrianglesAndSquaresRotationScale\""
   ]
  },
  {
   "cell_type": "code",
   "execution_count": null,
   "metadata": {},
   "outputs": [],
   "source": [
    "# original filename\n",
    "original_images_fname = os.path.join(original_data_path,'Polygons_size_64_nr_samples_20000.dat')\n",
    "original_labels_fname = os.path.join(original_data_path, 'Class_size_64_nr_samples_20000.dat')\n",
    "print(original_images_fname)\n",
    "print(original_labels_fname)"
   ]
  },
  {
   "cell_type": "code",
   "execution_count": null,
   "metadata": {},
   "outputs": [],
   "source": [
    "# load data\n",
    "original_images = np.loadtxt(original_images_fname, delimiter=',')"
   ]
  },
  {
   "cell_type": "code",
   "execution_count": null,
   "metadata": {},
   "outputs": [],
   "source": [
    "print(original_images.shape)"
   ]
  },
  {
   "cell_type": "code",
   "execution_count": null,
   "metadata": {},
   "outputs": [],
   "source": [
    "# load data\n",
    "original_labels = np.loadtxt(original_labels_fname, delimiter=',')"
   ]
  },
  {
   "cell_type": "code",
   "execution_count": null,
   "metadata": {},
   "outputs": [],
   "source": [
    "print(original_labels.shape)"
   ]
  },
  {
   "cell_type": "code",
   "execution_count": null,
   "metadata": {},
   "outputs": [],
   "source": [
    "# display 12 random images\n",
    "shi.plot_12images(original_images, original_labels)"
   ]
  },
  {
   "cell_type": "markdown",
   "metadata": {},
   "source": [
    "### Spliting to train, test and validaiton data"
   ]
  },
  {
   "cell_type": "code",
   "execution_count": null,
   "metadata": {},
   "outputs": [],
   "source": [
    "# filenames tp save the split data\n",
    "train_images_fname = os.path.join(original_data_path, 'split_npz','train_images.npz')\n",
    "test_images_fname = os.path.join(original_data_path, 'split_npz','test_images.npz')\n",
    "val_images_fname = os.path.join(original_data_path, 'split_npz','validaiton_images.npz')\n",
    "\n",
    "train_labels = os.path.join(original_data_path, 'split_npz','train_labels.npz')\n",
    "test_labels_fname = os.path.join(original_data_path, 'split_npz','test_labels.npz')\n",
    "val_labels_fname = os.path.join(original_data_path, 'split_npz','validaiton_labels.npz')\n"
   ]
  },
  {
   "cell_type": "code",
   "execution_count": null,
   "metadata": {},
   "outputs": [],
   "source": [
    "# split\n",
    "images_train, images_val, images_test, labels_train, labels_val, labels_test = ...\n",
    "                                                                shi.split_data(original_images, original_labels)\n",
    "print(\"Size of training data: \", np.shape(images_train), \"and labels: \", np.shape(labels_train))\n",
    "print(\"Size of validaiton data: \", np.shape(images_val), \"and labels: \", np.shape(labels_val))\n",
    "print(\"Size of testing data: \", np.shape(images_test), \"and labels: \", np.shape(labels_test))"
   ]
  },
  {
   "cell_type": "code",
   "execution_count": null,
   "metadata": {},
   "outputs": [],
   "source": [
    "# saving\n",
    "saveaz(train_images_fname, images_train, labels_train)\n",
    "saveaz(val_images_fname, images_val, labels_val)\n",
    "saveaz(test_images_fname, images_test, labels_test)"
   ]
  }
 ],
 "metadata": {
  "kernelspec": {
   "display_name": "Python 3",
   "language": "python",
   "name": "python3"
  },
  "language_info": {
   "codemirror_mode": {
    "name": "ipython",
    "version": 3
   },
   "file_extension": ".py",
   "mimetype": "text/x-python",
   "name": "python",
   "nbconvert_exporter": "python",
   "pygments_lexer": "ipython3",
   "version": "3.6.7"
  }
 },
 "nbformat": 4,
 "nbformat_minor": 2
}
