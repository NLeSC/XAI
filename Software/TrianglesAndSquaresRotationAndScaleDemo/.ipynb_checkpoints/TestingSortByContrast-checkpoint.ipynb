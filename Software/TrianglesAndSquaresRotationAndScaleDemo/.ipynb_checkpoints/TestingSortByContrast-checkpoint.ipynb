{
 "cells": [
  {
   "cell_type": "markdown",
   "metadata": {},
   "source": [
    "# Testing sorting images by contrast"
   ]
  },
  {
   "cell_type": "code",
   "execution_count": 1,
   "metadata": {},
   "outputs": [],
   "source": [
    "# settings\n",
    "\n",
    "import warnings\n",
    "warnings.simplefilter('ignore')\n",
    "\n",
    "import numpy as np\n",
    "from numpy import load\n",
    "import os.path\n",
    "import matplotlib.pyplot as plt\n",
    "\n",
    "from code import shape_images as shi"
   ]
  },
  {
   "cell_type": "markdown",
   "metadata": {},
   "source": [
    "## Loading or pre-generated data"
   ]
  },
  {
   "cell_type": "code",
   "execution_count": 2,
   "metadata": {},
   "outputs": [
    {
     "name": "stdout",
     "output_type": "stream",
     "text": [
      "Size of testing data:  (2000, 4096)\n",
      "Size of testing data:  (2000, 64, 64)\n"
     ]
    }
   ],
   "source": [
    "# filenames\n",
    "# data paths\n",
    "original_data_path = \"/home/elena/eStep/XAI/Data/TrianglesAndSquaresRotationScale\"\n",
    "\n",
    "test_data_fname = os.path.join(original_data_path, 'split_npz','test_data.npz')\n",
    "\n",
    "# loading\n",
    "test_data = np.load(test_data_fname)\n",
    "\n",
    "images_test = test_data['images_test']\n",
    "print(\"Size of testing data: \", np.shape(images_test))\n",
    "\n",
    "images_test = images_test.reshape(images_test.shape[0], 64, 64)\n",
    "print(\"Size of testing data: \", np.shape(images_test))"
   ]
  },
  {
   "cell_type": "code",
   "execution_count": 3,
   "metadata": {},
   "outputs": [
    {
     "name": "stdout",
     "output_type": "stream",
     "text": [
      "Size of data to sort:  (2000, 64, 64)\n",
      "(2000,)\n",
      "BG values:  [0.81161 0.83134 0.91098 ... 0.9941  0.10899 0.12746]\n",
      "(2000,)\n",
      "FG values:  [0.93452  0.55185  0.34826  ... 0.39678  0.25771  0.035068]\n",
      "(2000,)\n",
      "Combined values:  [812.54452  831.89185  911.32826  ... 994.49678  109.24771  127.495068]\n"
     ]
    }
   ],
   "source": [
    "# call sorting function\n",
    "output_images, bg_values, fg_values, combined_values, sort_index = shi.sort_contrast(images_test)\n",
    "\n",
    "print(\"Size of data to sort: \", np.shape(images_test))\n",
    "print(np.shape(bg_values))\n",
    "print(\"BG values: \",bg_values)\n",
    "print(np.shape(fg_values))\n",
    "print(\"FG values: \",fg_values)\n",
    "print(np.shape(combined_values))\n",
    "print(\"Combined values: \",combined_values)\n",
    "print(np.shape(sort_index))\n",
    "print(\"Sort idex:\", sort_index)"
   ]
  },
  {
   "cell_type": "code",
   "execution_count": null,
   "metadata": {},
   "outputs": [],
   "source": []
  }
 ],
 "metadata": {
  "kernelspec": {
   "display_name": "Python 3",
   "language": "python",
   "name": "python3"
  },
  "language_info": {
   "codemirror_mode": {
    "name": "ipython",
    "version": 3
   },
   "file_extension": ".py",
   "mimetype": "text/x-python",
   "name": "python",
   "nbconvert_exporter": "python",
   "pygments_lexer": "ipython3",
   "version": "3.6.7"
  }
 },
 "nbformat": 4,
 "nbformat_minor": 2
}
