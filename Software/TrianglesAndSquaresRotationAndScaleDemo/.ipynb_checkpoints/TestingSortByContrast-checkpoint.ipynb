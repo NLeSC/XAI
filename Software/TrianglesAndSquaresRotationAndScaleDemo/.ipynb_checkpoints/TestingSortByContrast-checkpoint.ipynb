{
 "cells": [
  {
   "cell_type": "markdown",
   "metadata": {},
   "source": [
    "# Testing sorting images by contrast"
   ]
  },
  {
   "cell_type": "code",
   "execution_count": 7,
   "metadata": {},
   "outputs": [
    {
     "name": "stdout",
     "output_type": "stream",
     "text": [
      "The autoreload extension is already loaded. To reload it, use:\n",
      "  %reload_ext autoreload\n"
     ]
    }
   ],
   "source": [
    "# settings\n",
    "\n",
    "%load_ext autoreload\n",
    "%autoreload 2\n",
    "\n",
    "import warnings\n",
    "warnings.simplefilter('ignore')\n",
    "\n",
    "import numpy as np\n",
    "from numpy import load\n",
    "import os.path\n",
    "import matplotlib.pyplot as plt\n",
    "\n",
    "from code import shape_images as shi"
   ]
  },
  {
   "cell_type": "markdown",
   "metadata": {},
   "source": [
    "## Loading or pre-generated data"
   ]
  },
  {
   "cell_type": "code",
   "execution_count": 8,
   "metadata": {},
   "outputs": [
    {
     "name": "stdout",
     "output_type": "stream",
     "text": [
      "Size of testing data:  (2000, 4096) and labels:  (2000,)\n",
      "Size of testing data:  (2000, 64, 64)\n"
     ]
    }
   ],
   "source": [
    "# filenames\n",
    "# data paths\n",
    "original_data_path = \"/home/elena/eStep/XAI/Data/TrianglesAndSquaresRotationScale\"\n",
    "\n",
    "test_data_fname = os.path.join(original_data_path, 'split_npz','test_data.npz')\n",
    "\n",
    "# loading\n",
    "test_data = np.load(test_data_fname)\n",
    "\n",
    "images_test = test_data['images_test']\n",
    "labels_test = test_data['labels_test']\n",
    "print(\"Size of testing data: \", np.shape(images_test), \"and labels: \", np.shape(labels_test))\n",
    "\n",
    "images_test = images_test.reshape(images_test.shape[0], 64, 64)\n",
    "print(\"Size of testing data: \", np.shape(images_test))"
   ]
  },
  {
   "cell_type": "code",
   "execution_count": 10,
   "metadata": {},
   "outputs": [
    {
     "name": "stdout",
     "output_type": "stream",
     "text": [
      "There are  1012  square shapes in the test set.\n"
     ]
    },
    {
     "data": {
      "image/png": "[encoded data removed]",
      "text/plain": [
       "<Figure size 576x432 with 12 Axes>"
      ]
     },
     "metadata": {},
     "output_type": "display_data"
    }
   ],
   "source": [
    "# select squares only\n",
    "label = 0\n",
    "\n",
    "squares = shi.select_shape(images_test, labels_test, label)\n",
    "print('There are ',np.shape(squares)[0] , ' square shapes in the test set.')\n",
    "\n",
    "shi.plot_12images(squares)"
   ]
  },
  {
   "cell_type": "code",
   "execution_count": null,
   "metadata": {},
   "outputs": [],
   "source": [
    "# select triangles only\n",
    "label = 1\n",
    "\n",
    "trangles = shi.select_shape(images_test, labels_test, label)\n",
    "print('There are ',np.shape(triangles)[0] , ' triangle shapes in the test set.')\n",
    "\n",
    "shi.plot_12images(triangles)"
   ]
  },
  {
   "cell_type": "code",
   "execution_count": null,
   "metadata": {},
   "outputs": [],
   "source": [
    "# call sorting function\n",
    "sorted_images_test, sorted_labels_test, sort_index = shi.sort_contrast(images_test, labels_test)\n",
    "\n",
    "print(\"Size of data to sort: \", np.shape(images_test))\n",
    "print(\"Sort idex:\", sort_index)\n",
    "print(\"Size of output data: \", np.shape(sorted_images_test))\n",
    "print(\"Size of output labels: \", np.shape(sorted_labels_test))\n",
    "print(\"Output labels: \", sorted_labels_test)"
   ]
  },
  {
   "cell_type": "code",
   "execution_count": null,
   "metadata": {},
   "outputs": [],
   "source": [
    "# plot 12  train images before sorting\n",
    "shi.plot_12seqimages(images_test, labels_test) \n"
   ]
  },
  {
   "cell_type": "code",
   "execution_count": null,
   "metadata": {},
   "outputs": [],
   "source": [
    "# plot 12  train images after sorting\n",
    "shi.plot_12seqimages(sorted_images_test, sorted_labels_test)"
   ]
  },
  {
   "cell_type": "code",
   "execution_count": null,
   "metadata": {},
   "outputs": [],
   "source": [
    "# plot 12  train images after sorting\n",
    "shi.plot_12seqimages(sorted_images_test, sorted_labels_test, 1000)"
   ]
  },
  {
   "cell_type": "code",
   "execution_count": null,
   "metadata": {},
   "outputs": [],
   "source": [
    "# plot 12  train images after sorting\n",
    "shi.plot_12seqimages(sorted_images_test, sorted_labels_test, 1200)"
   ]
  },
  {
   "cell_type": "code",
   "execution_count": null,
   "metadata": {},
   "outputs": [],
   "source": [
    "# plot 12  train images after sorting\n",
    "shi.plot_12seqimages(sorted_images_test, sorted_labels_test, 1500)"
   ]
  },
  {
   "cell_type": "code",
   "execution_count": null,
   "metadata": {},
   "outputs": [],
   "source": [
    "# plot 12  train images after sorting\n",
    "shi.plot_12seqimages(sorted_images_test, sorted_labels_test, 1800)"
   ]
  }
 ],
 "metadata": {
  "kernelspec": {
   "display_name": "Python 3",
   "language": "python",
   "name": "python3"
  },
  "language_info": {
   "codemirror_mode": {
    "name": "ipython",
    "version": 3
   },
   "file_extension": ".py",
   "mimetype": "text/x-python",
   "name": "python",
   "nbconvert_exporter": "python",
   "pygments_lexer": "ipython3",
   "version": "3.6.7"
  }
 },
 "nbformat": 4,
 "nbformat_minor": 2
}
