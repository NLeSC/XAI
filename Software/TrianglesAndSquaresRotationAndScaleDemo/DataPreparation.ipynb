{
 "cells": [
  {
   "cell_type": "markdown",
   "metadata": {},
   "source": [
    "# Data preparation"
   ]
  },
  {
   "cell_type": "code",
   "execution_count": 2,
   "metadata": {},
   "outputs": [],
   "source": [
    "# imports\n",
    "import numpy as np\n",
    "import os\n",
    "from code import shape_images as shi"
   ]
  },
  {
   "cell_type": "code",
   "execution_count": 3,
   "metadata": {},
   "outputs": [],
   "source": [
    "# constants\n",
    "num_images = 20000\n",
    "im_dim = 64"
   ]
  },
  {
   "cell_type": "markdown",
   "metadata": {},
   "source": [
    "### Load the original MATLAB data and display"
   ]
  },
  {
   "cell_type": "code",
   "execution_count": 4,
   "metadata": {},
   "outputs": [],
   "source": [
    "# data paths\n",
    "original_data_path = \"/home/elena/eStep/XAI/Data/TrianglesAndSquaresRotationScale\""
   ]
  },
  {
   "cell_type": "code",
   "execution_count": 5,
   "metadata": {},
   "outputs": [
    {
     "name": "stdout",
     "output_type": "stream",
     "text": [
      "/home/elena/eStep/XAI/Data/TrianglesAndSquaresRotationScale/Polygons_size_64_nr_samples_20000.dat\n",
      "/home/elena/eStep/XAI/Data/TrianglesAndSquaresRotationScale/Class_size_64_nr_samples_20000.dat\n"
     ]
    }
   ],
   "source": [
    "# original filename\n",
    "original_images_fname = os.path.join(original_data_path,'Polygons_size_64_nr_samples_20000.dat')\n",
    "original_labels_fname = os.path.join(original_data_path, 'Class_size_64_nr_samples_20000.dat')\n",
    "print(original_images_fname)\n",
    "print(original_labels_fname)"
   ]
  },
  {
   "cell_type": "code",
   "execution_count": 6,
   "metadata": {},
   "outputs": [],
   "source": [
    "# load data\n",
    "original_images = np.loadtxt(original_images_fname, delimiter=',')"
   ]
  },
  {
   "cell_type": "code",
   "execution_count": 7,
   "metadata": {},
   "outputs": [
    {
     "name": "stdout",
     "output_type": "stream",
     "text": [
      "(20000, 4096)\n"
     ]
    }
   ],
   "source": [
    "print(original_images.shape)"
   ]
  },
  {
   "cell_type": "code",
   "execution_count": 8,
   "metadata": {},
   "outputs": [],
   "source": [
    "# load data\n",
    "original_labels = np.loadtxt(original_labels_fname, delimiter=',')"
   ]
  },
  {
   "cell_type": "code",
   "execution_count": 9,
   "metadata": {},
   "outputs": [
    {
     "name": "stdout",
     "output_type": "stream",
     "text": [
      "(20000,)\n"
     ]
    }
   ],
   "source": [
    "print(original_labels.shape)"
   ]
  },
  {
   "cell_type": "code",
   "execution_count": 10,
   "metadata": {},
   "outputs": [
    {
     "data": {
      "image/png": "[encoded data removed]",
      "text/plain": [
       "<Figure size 576x432 with 12 Axes>"
      ]
     },
     "metadata": {},
     "output_type": "display_data"
    }
   ],
   "source": [
    "# display 12 random images\n",
    "shi.plot_12images(original_images, original_labels)"
   ]
  },
  {
   "cell_type": "markdown",
   "metadata": {},
   "source": [
    "### Spliting to train, test and validaiton data"
   ]
  },
  {
   "cell_type": "code",
   "execution_count": 13,
   "metadata": {},
   "outputs": [],
   "source": [
    "# filenames tp save the split data\n",
    "train_images_fname = os.path.join(original_data_path, 'split_npz','train_images.npz')\n",
    "test_images_fname = os.path.join(original_data_path, 'split_npz','test_images.npz')\n",
    "val_images_fname = os.path.join(original_data_path, 'split_npz','validaiton_images.npz')\n",
    "\n",
    "train_labels = os.path.join(original_data_path, 'split_npz','train_labels.npz')\n",
    "test_labels_fname = os.path.join(original_data_path, 'split_npz','test_labels.npz')\n",
    "val_labels_fname = os.path.join(original_data_path, 'split_npz','validaiton_labels.npz')\n"
   ]
  },
  {
   "cell_type": "code",
   "execution_count": 18,
   "metadata": {},
   "outputs": [
    {
     "name": "stdout",
     "output_type": "stream",
     "text": [
      "Size of training data:  (14000, 4096) and labels:  (14000,)\n",
      "Size of validaiton data:  (4000, 4096) and labels:  (4000,)\n",
      "Size of testing data:  (2000, 4096) and labels:  (2000,)\n"
     ]
    }
   ],
   "source": [
    "# split\n",
    "images_train, images_val, images_test, labels_train, labels_val, labels_test = shi.split_data(original_images, original_labels)\n",
    "print(\"Size of training data: \", np.shape(images_train), \"and labels: \", np.shape(labels_train))\n",
    "print(\"Size of validaiton data: \", np.shape(images_val), \"and labels: \", np.shape(labels_val))\n",
    "print(\"Size of testing data: \", np.shape(images_test), \"and labels: \", np.shape(labels_test))"
   ]
  },
  {
   "cell_type": "code",
   "execution_count": 19,
   "metadata": {},
   "outputs": [],
   "source": [
    "# saving\n",
    "np.savez(train_images_fname, images_train, labels_train)\n",
    "np.savez(val_images_fname, images_val, labels_val)\n",
    "np.savez(test_images_fname, images_test, labels_test)"
   ]
  }
 ],
 "metadata": {
  "kernelspec": {
   "display_name": "Python 3",
   "language": "python",
   "name": "python3"
  },
  "language_info": {
   "codemirror_mode": {
    "name": "ipython",
    "version": 3
   },
   "file_extension": ".py",
   "mimetype": "text/x-python",
   "name": "python",
   "nbconvert_exporter": "python",
   "pygments_lexer": "ipython3",
   "version": "3.6.7"
  }
 },
 "nbformat": 4,
 "nbformat_minor": 2
}
